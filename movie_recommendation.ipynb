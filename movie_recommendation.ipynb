{
 "cells": [
  {
   "cell_type": "markdown",
   "metadata": {
    "papermill": {
     "duration": 0.022188,
     "end_time": "2021-03-01T05:04:36.612621",
     "exception": false,
     "start_time": "2021-03-01T05:04:36.590433",
     "status": "completed"
    },
    "tags": []
   },
   "source": [
    "## Recommendation Engines\n",
    "Recommendation Engine filter out the poducts that a paticular customer would be interested in or would buy based on his/her previous buying history but if the customer is new then this method will fail as we have no previous data from the customer.So,to tackle this issue different methods are used,for example oftern the most popular products are recommended.This recommendations would not be must accurate as they are not customer dependent and are same for all new customers.\n",
    "\n",
    "So there are many types of recommndation engines:\n",
    "- Collabrative Recommender System\n",
    "- Content based Recommender System\n",
    "- Demographic based Recommender System\n",
    "- Utility based Recommende System\n",
    "- Knowledge based Recommende System\n",
    "- Hybrid Recommende System"
   ]
  },
  {
   "cell_type": "markdown",
   "metadata": {
    "papermill": {
     "duration": 0.021112,
     "end_time": "2021-03-01T05:04:36.655076",
     "exception": false,
     "start_time": "2021-03-01T05:04:36.633964",
     "status": "completed"
    },
    "tags": []
   },
   "source": [
    "If you want to know what are these recommendation system then you must read this amazing article: https://www.bluepiit.com/blog/classifying-recommender-systems/"
   ]
  },
  {
   "cell_type": "markdown",
   "metadata": {
    "papermill": {
     "duration": 0.02101,
     "end_time": "2021-03-01T05:04:36.697659",
     "exception": false,
     "start_time": "2021-03-01T05:04:36.676649",
     "status": "completed"
    },
    "tags": []
   },
   "source": [
    "First of all we will going to import all the required libraries"
   ]
  },
  {
   "cell_type": "code",
   "execution_count": 1,
   "metadata": {
    "execution": {
     "iopub.execute_input": "2021-03-01T05:04:36.745979Z",
     "iopub.status.busy": "2021-03-01T05:04:36.745139Z",
     "iopub.status.idle": "2021-03-01T05:04:37.637122Z",
     "shell.execute_reply": "2021-03-01T05:04:37.636426Z"
    },
    "papermill": {
     "duration": 0.918248,
     "end_time": "2021-03-01T05:04:37.637332",
     "exception": false,
     "start_time": "2021-03-01T05:04:36.719084",
     "status": "completed"
    },
    "tags": []
   },
   "outputs": [],
   "source": [
    "# import libraries\n",
    "import pandas as pd\n",
    "import matplotlib.pyplot as plt\n",
    "import seaborn as sns\n",
    "import numpy as np"
   ]
  },
  {
   "cell_type": "markdown",
   "metadata": {
    "papermill": {
     "duration": 0.021245,
     "end_time": "2021-03-01T05:04:37.681595",
     "exception": false,
     "start_time": "2021-03-01T05:04:37.660350",
     "status": "completed"
    },
    "tags": []
   },
   "source": [
    "We will going to take two dataset first one is movie dataset in which we will have movie names and the second dataset will have ratings and userID"
   ]
  },
  {
   "cell_type": "code",
   "execution_count": 2,
   "metadata": {
    "execution": {
     "iopub.execute_input": "2021-03-01T05:04:37.729583Z",
     "iopub.status.busy": "2021-03-01T05:04:37.728898Z",
     "iopub.status.idle": "2021-03-01T05:04:37.842411Z",
     "shell.execute_reply": "2021-03-01T05:04:37.841875Z"
    },
    "papermill": {
     "duration": 0.139529,
     "end_time": "2021-03-01T05:04:37.842560",
     "exception": false,
     "start_time": "2021-03-01T05:04:37.703031",
     "status": "completed"
    },
    "tags": []
   },
   "outputs": [
    {
     "data": {
      "text/html": [
       "<div>\n",
       "<style scoped>\n",
       "    .dataframe tbody tr th:only-of-type {\n",
       "        vertical-align: middle;\n",
       "    }\n",
       "\n",
       "    .dataframe tbody tr th {\n",
       "        vertical-align: top;\n",
       "    }\n",
       "\n",
       "    .dataframe thead th {\n",
       "        text-align: right;\n",
       "    }\n",
       "</style>\n",
       "<table border=\"1\" class=\"dataframe\">\n",
       "  <thead>\n",
       "    <tr style=\"text-align: right;\">\n",
       "      <th></th>\n",
       "      <th>movieId</th>\n",
       "      <th>title</th>\n",
       "      <th>genres</th>\n",
       "    </tr>\n",
       "  </thead>\n",
       "  <tbody>\n",
       "    <tr>\n",
       "      <th>0</th>\n",
       "      <td>1</td>\n",
       "      <td>Toy Story (1995)</td>\n",
       "      <td>Adventure|Animation|Children|Comedy|Fantasy</td>\n",
       "    </tr>\n",
       "    <tr>\n",
       "      <th>1</th>\n",
       "      <td>2</td>\n",
       "      <td>Jumanji (1995)</td>\n",
       "      <td>Adventure|Children|Fantasy</td>\n",
       "    </tr>\n",
       "    <tr>\n",
       "      <th>2</th>\n",
       "      <td>3</td>\n",
       "      <td>Grumpier Old Men (1995)</td>\n",
       "      <td>Comedy|Romance</td>\n",
       "    </tr>\n",
       "    <tr>\n",
       "      <th>3</th>\n",
       "      <td>4</td>\n",
       "      <td>Waiting to Exhale (1995)</td>\n",
       "      <td>Comedy|Drama|Romance</td>\n",
       "    </tr>\n",
       "    <tr>\n",
       "      <th>4</th>\n",
       "      <td>5</td>\n",
       "      <td>Father of the Bride Part II (1995)</td>\n",
       "      <td>Comedy</td>\n",
       "    </tr>\n",
       "  </tbody>\n",
       "</table>\n",
       "</div>"
      ],
      "text/plain": [
       "   movieId                               title  \\\n",
       "0        1                    Toy Story (1995)   \n",
       "1        2                      Jumanji (1995)   \n",
       "2        3             Grumpier Old Men (1995)   \n",
       "3        4            Waiting to Exhale (1995)   \n",
       "4        5  Father of the Bride Part II (1995)   \n",
       "\n",
       "                                        genres  \n",
       "0  Adventure|Animation|Children|Comedy|Fantasy  \n",
       "1                   Adventure|Children|Fantasy  \n",
       "2                               Comedy|Romance  \n",
       "3                         Comedy|Drama|Romance  \n",
       "4                                       Comedy  "
      ]
     },
     "execution_count": 2,
     "metadata": {},
     "output_type": "execute_result"
    }
   ],
   "source": [
    "#read csv file\n",
    "df = pd.read_csv('../input/movielens-20m-dataset/movie.csv')\n",
    "\n",
    "# first few rows of dataset\n",
    "df.head()"
   ]
  },
  {
   "cell_type": "code",
   "execution_count": 3,
   "metadata": {
    "execution": {
     "iopub.execute_input": "2021-03-01T05:04:37.892748Z",
     "iopub.status.busy": "2021-03-01T05:04:37.891854Z",
     "iopub.status.idle": "2021-03-01T05:04:37.896335Z",
     "shell.execute_reply": "2021-03-01T05:04:37.895721Z"
    },
    "papermill": {
     "duration": 0.031622,
     "end_time": "2021-03-01T05:04:37.896473",
     "exception": false,
     "start_time": "2021-03-01T05:04:37.864851",
     "status": "completed"
    },
    "tags": []
   },
   "outputs": [
    {
     "data": {
      "text/plain": [
       "(27278, 3)"
      ]
     },
     "execution_count": 3,
     "metadata": {},
     "output_type": "execute_result"
    }
   ],
   "source": [
    "df.shape"
   ]
  },
  {
   "cell_type": "markdown",
   "metadata": {
    "papermill": {
     "duration": 0.022467,
     "end_time": "2021-03-01T05:04:37.941417",
     "exception": false,
     "start_time": "2021-03-01T05:04:37.918950",
     "status": "completed"
    },
    "tags": []
   },
   "source": [
    "So we have 27,278 movies.We don't need genres column so we are dropping that column"
   ]
  },
  {
   "cell_type": "code",
   "execution_count": 4,
   "metadata": {
    "execution": {
     "iopub.execute_input": "2021-03-01T05:04:37.993204Z",
     "iopub.status.busy": "2021-03-01T05:04:37.992538Z",
     "iopub.status.idle": "2021-03-01T05:04:37.995733Z",
     "shell.execute_reply": "2021-03-01T05:04:37.995146Z"
    },
    "papermill": {
     "duration": 0.031844,
     "end_time": "2021-03-01T05:04:37.995911",
     "exception": false,
     "start_time": "2021-03-01T05:04:37.964067",
     "status": "completed"
    },
    "tags": []
   },
   "outputs": [],
   "source": [
    "# drop genres column\n",
    "df.drop(['genres'],axis=1,inplace=True)"
   ]
  },
  {
   "cell_type": "markdown",
   "metadata": {
    "papermill": {
     "duration": 0.024668,
     "end_time": "2021-03-01T05:04:38.043584",
     "exception": false,
     "start_time": "2021-03-01T05:04:38.018916",
     "status": "completed"
    },
    "tags": []
   },
   "source": [
    "We need to import our another dataset in which we have ratings for the movie"
   ]
  },
  {
   "cell_type": "code",
   "execution_count": 5,
   "metadata": {
    "execution": {
     "iopub.execute_input": "2021-03-01T05:04:38.092303Z",
     "iopub.status.busy": "2021-03-01T05:04:38.091638Z",
     "iopub.status.idle": "2021-03-01T05:05:01.188230Z",
     "shell.execute_reply": "2021-03-01T05:05:01.188688Z"
    },
    "papermill": {
     "duration": 23.122524,
     "end_time": "2021-03-01T05:05:01.188896",
     "exception": false,
     "start_time": "2021-03-01T05:04:38.066372",
     "status": "completed"
    },
    "tags": []
   },
   "outputs": [
    {
     "data": {
      "text/plain": [
       "Index(['userId', 'movieId', 'rating', 'timestamp'], dtype='object')"
      ]
     },
     "execution_count": 5,
     "metadata": {},
     "output_type": "execute_result"
    }
   ],
   "source": [
    "# import rating dataset\n",
    "rating = pd.read_csv(\"../input/movielens-20m-dataset/rating.csv\")\n",
    "\n",
    "# columns\n",
    "rating.columns"
   ]
  },
  {
   "cell_type": "code",
   "execution_count": 6,
   "metadata": {
    "execution": {
     "iopub.execute_input": "2021-03-01T05:05:01.239736Z",
     "iopub.status.busy": "2021-03-01T05:05:01.239083Z",
     "iopub.status.idle": "2021-03-01T05:05:01.971721Z",
     "shell.execute_reply": "2021-03-01T05:05:01.972240Z"
    },
    "papermill": {
     "duration": 0.760233,
     "end_time": "2021-03-01T05:05:01.972415",
     "exception": false,
     "start_time": "2021-03-01T05:05:01.212182",
     "status": "completed"
    },
    "tags": []
   },
   "outputs": [
    {
     "data": {
      "text/html": [
       "<div>\n",
       "<style scoped>\n",
       "    .dataframe tbody tr th:only-of-type {\n",
       "        vertical-align: middle;\n",
       "    }\n",
       "\n",
       "    .dataframe tbody tr th {\n",
       "        vertical-align: top;\n",
       "    }\n",
       "\n",
       "    .dataframe thead th {\n",
       "        text-align: right;\n",
       "    }\n",
       "</style>\n",
       "<table border=\"1\" class=\"dataframe\">\n",
       "  <thead>\n",
       "    <tr style=\"text-align: right;\">\n",
       "      <th></th>\n",
       "      <th>userId</th>\n",
       "      <th>movieId</th>\n",
       "      <th>rating</th>\n",
       "    </tr>\n",
       "  </thead>\n",
       "  <tbody>\n",
       "    <tr>\n",
       "      <th>0</th>\n",
       "      <td>1</td>\n",
       "      <td>2</td>\n",
       "      <td>3.5</td>\n",
       "    </tr>\n",
       "    <tr>\n",
       "      <th>1</th>\n",
       "      <td>1</td>\n",
       "      <td>29</td>\n",
       "      <td>3.5</td>\n",
       "    </tr>\n",
       "    <tr>\n",
       "      <th>2</th>\n",
       "      <td>1</td>\n",
       "      <td>32</td>\n",
       "      <td>3.5</td>\n",
       "    </tr>\n",
       "    <tr>\n",
       "      <th>3</th>\n",
       "      <td>1</td>\n",
       "      <td>47</td>\n",
       "      <td>3.5</td>\n",
       "    </tr>\n",
       "    <tr>\n",
       "      <th>4</th>\n",
       "      <td>1</td>\n",
       "      <td>50</td>\n",
       "      <td>3.5</td>\n",
       "    </tr>\n",
       "  </tbody>\n",
       "</table>\n",
       "</div>"
      ],
      "text/plain": [
       "   userId  movieId  rating\n",
       "0       1        2     3.5\n",
       "1       1       29     3.5\n",
       "2       1       32     3.5\n",
       "3       1       47     3.5\n",
       "4       1       50     3.5"
      ]
     },
     "execution_count": 6,
     "metadata": {},
     "output_type": "execute_result"
    }
   ],
   "source": [
    "# we need user id, movie id and rating\n",
    "rating = rating.loc[:,[\"userId\",\"movieId\",\"rating\"]]\n",
    "rating.head()"
   ]
  },
  {
   "cell_type": "code",
   "execution_count": 7,
   "metadata": {
    "execution": {
     "iopub.execute_input": "2021-03-01T05:05:02.027650Z",
     "iopub.status.busy": "2021-03-01T05:05:02.027029Z",
     "iopub.status.idle": "2021-03-01T05:05:04.712061Z",
     "shell.execute_reply": "2021-03-01T05:05:04.711480Z"
    },
    "papermill": {
     "duration": 2.716308,
     "end_time": "2021-03-01T05:05:04.712205",
     "exception": false,
     "start_time": "2021-03-01T05:05:01.995897",
     "status": "completed"
    },
    "tags": []
   },
   "outputs": [],
   "source": [
    "#then merge movie and rating data\n",
    "df = pd.merge(df,rating)"
   ]
  },
  {
   "cell_type": "code",
   "execution_count": 8,
   "metadata": {
    "execution": {
     "iopub.execute_input": "2021-03-01T05:05:04.770119Z",
     "iopub.status.busy": "2021-03-01T05:05:04.769197Z",
     "iopub.status.idle": "2021-03-01T05:05:04.773960Z",
     "shell.execute_reply": "2021-03-01T05:05:04.773469Z"
    },
    "papermill": {
     "duration": 0.038423,
     "end_time": "2021-03-01T05:05:04.774100",
     "exception": false,
     "start_time": "2021-03-01T05:05:04.735677",
     "status": "completed"
    },
    "tags": []
   },
   "outputs": [
    {
     "data": {
      "text/html": [
       "<div>\n",
       "<style scoped>\n",
       "    .dataframe tbody tr th:only-of-type {\n",
       "        vertical-align: middle;\n",
       "    }\n",
       "\n",
       "    .dataframe tbody tr th {\n",
       "        vertical-align: top;\n",
       "    }\n",
       "\n",
       "    .dataframe thead th {\n",
       "        text-align: right;\n",
       "    }\n",
       "</style>\n",
       "<table border=\"1\" class=\"dataframe\">\n",
       "  <thead>\n",
       "    <tr style=\"text-align: right;\">\n",
       "      <th></th>\n",
       "      <th>movieId</th>\n",
       "      <th>title</th>\n",
       "      <th>userId</th>\n",
       "      <th>rating</th>\n",
       "    </tr>\n",
       "  </thead>\n",
       "  <tbody>\n",
       "    <tr>\n",
       "      <th>0</th>\n",
       "      <td>1</td>\n",
       "      <td>Toy Story (1995)</td>\n",
       "      <td>3</td>\n",
       "      <td>4.0</td>\n",
       "    </tr>\n",
       "    <tr>\n",
       "      <th>1</th>\n",
       "      <td>1</td>\n",
       "      <td>Toy Story (1995)</td>\n",
       "      <td>6</td>\n",
       "      <td>5.0</td>\n",
       "    </tr>\n",
       "    <tr>\n",
       "      <th>2</th>\n",
       "      <td>1</td>\n",
       "      <td>Toy Story (1995)</td>\n",
       "      <td>8</td>\n",
       "      <td>4.0</td>\n",
       "    </tr>\n",
       "    <tr>\n",
       "      <th>3</th>\n",
       "      <td>1</td>\n",
       "      <td>Toy Story (1995)</td>\n",
       "      <td>10</td>\n",
       "      <td>4.0</td>\n",
       "    </tr>\n",
       "    <tr>\n",
       "      <th>4</th>\n",
       "      <td>1</td>\n",
       "      <td>Toy Story (1995)</td>\n",
       "      <td>11</td>\n",
       "      <td>4.5</td>\n",
       "    </tr>\n",
       "  </tbody>\n",
       "</table>\n",
       "</div>"
      ],
      "text/plain": [
       "   movieId             title  userId  rating\n",
       "0        1  Toy Story (1995)       3     4.0\n",
       "1        1  Toy Story (1995)       6     5.0\n",
       "2        1  Toy Story (1995)       8     4.0\n",
       "3        1  Toy Story (1995)      10     4.0\n",
       "4        1  Toy Story (1995)      11     4.5"
      ]
     },
     "execution_count": 8,
     "metadata": {},
     "output_type": "execute_result"
    }
   ],
   "source": [
    "df.head()"
   ]
  },
  {
   "cell_type": "markdown",
   "metadata": {
    "papermill": {
     "duration": 0.023964,
     "end_time": "2021-03-01T05:05:04.822243",
     "exception": false,
     "start_time": "2021-03-01T05:05:04.798279",
     "status": "completed"
    },
    "tags": []
   },
   "source": [
    "As noted here one user has rated one or more than one movie. This means that one movie has been rated by more than one user."
   ]
  },
  {
   "cell_type": "code",
   "execution_count": 9,
   "metadata": {
    "execution": {
     "iopub.execute_input": "2021-03-01T05:05:04.876791Z",
     "iopub.status.busy": "2021-03-01T05:05:04.876082Z",
     "iopub.status.idle": "2021-03-01T05:05:04.880060Z",
     "shell.execute_reply": "2021-03-01T05:05:04.880496Z"
    },
    "papermill": {
     "duration": 0.033548,
     "end_time": "2021-03-01T05:05:04.880669",
     "exception": false,
     "start_time": "2021-03-01T05:05:04.847121",
     "status": "completed"
    },
    "tags": []
   },
   "outputs": [
    {
     "data": {
      "text/plain": [
       "(20000263, 4)"
      ]
     },
     "execution_count": 9,
     "metadata": {},
     "output_type": "execute_result"
    }
   ],
   "source": [
    "df.shape"
   ]
  },
  {
   "cell_type": "markdown",
   "metadata": {
    "papermill": {
     "duration": 0.024232,
     "end_time": "2021-03-01T05:05:04.929584",
     "exception": false,
     "start_time": "2021-03-01T05:05:04.905352",
     "status": "completed"
    },
    "tags": []
   },
   "source": [
    "In our kaggle kernel,we don't have much memory so we have to subset our dataset,we are going to take 1M rows"
   ]
  },
  {
   "cell_type": "code",
   "execution_count": 10,
   "metadata": {
    "execution": {
     "iopub.execute_input": "2021-03-01T05:05:04.983517Z",
     "iopub.status.busy": "2021-03-01T05:05:04.982897Z",
     "iopub.status.idle": "2021-03-01T05:05:04.985889Z",
     "shell.execute_reply": "2021-03-01T05:05:04.985272Z"
    },
    "papermill": {
     "duration": 0.031882,
     "end_time": "2021-03-01T05:05:04.986027",
     "exception": false,
     "start_time": "2021-03-01T05:05:04.954145",
     "status": "completed"
    },
    "tags": []
   },
   "outputs": [],
   "source": [
    "df = df.iloc[:1000000]"
   ]
  },
  {
   "cell_type": "code",
   "execution_count": 11,
   "metadata": {
    "execution": {
     "iopub.execute_input": "2021-03-01T05:05:05.041128Z",
     "iopub.status.busy": "2021-03-01T05:05:05.040435Z",
     "iopub.status.idle": "2021-03-01T05:05:05.044643Z",
     "shell.execute_reply": "2021-03-01T05:05:05.044047Z"
    },
    "papermill": {
     "duration": 0.033381,
     "end_time": "2021-03-01T05:05:05.044781",
     "exception": false,
     "start_time": "2021-03-01T05:05:05.011400",
     "status": "completed"
    },
    "tags": []
   },
   "outputs": [
    {
     "data": {
      "text/plain": [
       "(1000000, 4)"
      ]
     },
     "execution_count": 11,
     "metadata": {},
     "output_type": "execute_result"
    }
   ],
   "source": [
    "df.shape"
   ]
  },
  {
   "cell_type": "code",
   "execution_count": 12,
   "metadata": {
    "execution": {
     "iopub.execute_input": "2021-03-01T05:05:05.102770Z",
     "iopub.status.busy": "2021-03-01T05:05:05.102141Z",
     "iopub.status.idle": "2021-03-01T05:05:05.214396Z",
     "shell.execute_reply": "2021-03-01T05:05:05.213870Z"
    },
    "papermill": {
     "duration": 0.144208,
     "end_time": "2021-03-01T05:05:05.214534",
     "exception": false,
     "start_time": "2021-03-01T05:05:05.070326",
     "status": "completed"
    },
    "tags": []
   },
   "outputs": [
    {
     "data": {
      "text/html": [
       "<div>\n",
       "<style scoped>\n",
       "    .dataframe tbody tr th:only-of-type {\n",
       "        vertical-align: middle;\n",
       "    }\n",
       "\n",
       "    .dataframe tbody tr th {\n",
       "        vertical-align: top;\n",
       "    }\n",
       "\n",
       "    .dataframe thead th {\n",
       "        text-align: right;\n",
       "    }\n",
       "</style>\n",
       "<table border=\"1\" class=\"dataframe\">\n",
       "  <thead>\n",
       "    <tr style=\"text-align: right;\">\n",
       "      <th></th>\n",
       "      <th>movieId</th>\n",
       "      <th>userId</th>\n",
       "      <th>rating</th>\n",
       "    </tr>\n",
       "  </thead>\n",
       "  <tbody>\n",
       "    <tr>\n",
       "      <th>count</th>\n",
       "      <td>1000000.000000</td>\n",
       "      <td>1000000.000000</td>\n",
       "      <td>1000000.00000</td>\n",
       "    </tr>\n",
       "    <tr>\n",
       "      <th>mean</th>\n",
       "      <td>52.248951</td>\n",
       "      <td>69132.673651</td>\n",
       "      <td>3.56875</td>\n",
       "    </tr>\n",
       "    <tr>\n",
       "      <th>std</th>\n",
       "      <td>41.348656</td>\n",
       "      <td>40016.765553</td>\n",
       "      <td>1.05202</td>\n",
       "    </tr>\n",
       "    <tr>\n",
       "      <th>min</th>\n",
       "      <td>1.000000</td>\n",
       "      <td>1.000000</td>\n",
       "      <td>0.50000</td>\n",
       "    </tr>\n",
       "    <tr>\n",
       "      <th>25%</th>\n",
       "      <td>19.000000</td>\n",
       "      <td>34437.000000</td>\n",
       "      <td>3.00000</td>\n",
       "    </tr>\n",
       "    <tr>\n",
       "      <th>50%</th>\n",
       "      <td>42.000000</td>\n",
       "      <td>69262.500000</td>\n",
       "      <td>4.00000</td>\n",
       "    </tr>\n",
       "    <tr>\n",
       "      <th>75%</th>\n",
       "      <td>88.000000</td>\n",
       "      <td>103680.000000</td>\n",
       "      <td>4.00000</td>\n",
       "    </tr>\n",
       "    <tr>\n",
       "      <th>max</th>\n",
       "      <td>147.000000</td>\n",
       "      <td>138493.000000</td>\n",
       "      <td>5.00000</td>\n",
       "    </tr>\n",
       "  </tbody>\n",
       "</table>\n",
       "</div>"
      ],
      "text/plain": [
       "              movieId          userId         rating\n",
       "count  1000000.000000  1000000.000000  1000000.00000\n",
       "mean        52.248951    69132.673651        3.56875\n",
       "std         41.348656    40016.765553        1.05202\n",
       "min          1.000000        1.000000        0.50000\n",
       "25%         19.000000    34437.000000        3.00000\n",
       "50%         42.000000    69262.500000        4.00000\n",
       "75%         88.000000   103680.000000        4.00000\n",
       "max        147.000000   138493.000000        5.00000"
      ]
     },
     "execution_count": 12,
     "metadata": {},
     "output_type": "execute_result"
    }
   ],
   "source": [
    "# basic stats\n",
    "df.describe()"
   ]
  },
  {
   "cell_type": "markdown",
   "metadata": {
    "papermill": {
     "duration": 0.025304,
     "end_time": "2021-03-01T05:05:05.265852",
     "exception": false,
     "start_time": "2021-03-01T05:05:05.240548",
     "status": "completed"
    },
    "tags": []
   },
   "source": [
    "## Data Visualization"
   ]
  },
  {
   "cell_type": "markdown",
   "metadata": {
    "papermill": {
     "duration": 0.02546,
     "end_time": "2021-03-01T05:05:05.317006",
     "exception": false,
     "start_time": "2021-03-01T05:05:05.291546",
     "status": "completed"
    },
    "tags": []
   },
   "source": [
    "Let's find the average rating of each movie"
   ]
  },
  {
   "cell_type": "code",
   "execution_count": 13,
   "metadata": {
    "execution": {
     "iopub.execute_input": "2021-03-01T05:05:05.382231Z",
     "iopub.status.busy": "2021-03-01T05:05:05.381205Z",
     "iopub.status.idle": "2021-03-01T05:05:05.517098Z",
     "shell.execute_reply": "2021-03-01T05:05:05.516533Z"
    },
    "papermill": {
     "duration": 0.174297,
     "end_time": "2021-03-01T05:05:05.517245",
     "exception": false,
     "start_time": "2021-03-01T05:05:05.342948",
     "status": "completed"
    },
    "tags": []
   },
   "outputs": [
    {
     "data": {
      "text/plain": [
       "title\n",
       "Usual Suspects, The (1995)                   4.334372\n",
       "Taxi Driver (1976)                           4.110576\n",
       "Persuasion (1995)                            4.057546\n",
       "Seven (a.k.a. Se7en) (1995)                  4.053493\n",
       "Braveheart (1995)                            4.042534\n",
       "                                               ...   \n",
       "NeverEnding Story III, The (1994)            2.312137\n",
       "Lawnmower Man 2: Beyond Cyberspace (1996)    2.144243\n",
       "Gospa (1995)                                 2.142857\n",
       "Headless Body in Topless Bar (1995)          2.062500\n",
       "Kids of the Round Table (1995)               1.871429\n",
       "Name: rating, Length: 146, dtype: float64"
      ]
     },
     "execution_count": 13,
     "metadata": {},
     "output_type": "execute_result"
    }
   ],
   "source": [
    "df.groupby(\"title\").mean()['rating'].sort_values(ascending=False)"
   ]
  },
  {
   "cell_type": "markdown",
   "metadata": {
    "papermill": {
     "duration": 0.026095,
     "end_time": "2021-03-01T05:05:05.569560",
     "exception": false,
     "start_time": "2021-03-01T05:05:05.543465",
     "status": "completed"
    },
    "tags": []
   },
   "source": [
    "Let's find the number of rating a particular movie has received"
   ]
  },
  {
   "cell_type": "code",
   "execution_count": 14,
   "metadata": {
    "execution": {
     "iopub.execute_input": "2021-03-01T05:05:05.653371Z",
     "iopub.status.busy": "2021-03-01T05:05:05.652449Z",
     "iopub.status.idle": "2021-03-01T05:05:05.767450Z",
     "shell.execute_reply": "2021-03-01T05:05:05.766891Z"
    },
    "papermill": {
     "duration": 0.171683,
     "end_time": "2021-03-01T05:05:05.767584",
     "exception": false,
     "start_time": "2021-03-01T05:05:05.595901",
     "status": "completed"
    },
    "tags": []
   },
   "outputs": [
    {
     "data": {
      "text/plain": [
       "title\n",
       "Braveheart (1995)                            53769\n",
       "Toy Story (1995)                             49695\n",
       "Usual Suspects, The (1995)                   47006\n",
       "Twelve Monkeys (a.k.a. 12 Monkeys) (1995)    44980\n",
       "Seven (a.k.a. Se7en) (1995)                  43249\n",
       "                                             ...  \n",
       "Sonic Outlaws (1995)                            36\n",
       "Guardian Angel (1994)                           27\n",
       "Nueba Yol (1995)                                19\n",
       "Headless Body in Topless Bar (1995)             16\n",
       "Gospa (1995)                                    14\n",
       "Name: rating, Length: 146, dtype: int64"
      ]
     },
     "execution_count": 14,
     "metadata": {},
     "output_type": "execute_result"
    }
   ],
   "source": [
    "df.groupby(\"title\").count()[\"rating\"].sort_values(ascending=False)"
   ]
  },
  {
   "cell_type": "markdown",
   "metadata": {
    "papermill": {
     "duration": 0.026946,
     "end_time": "2021-03-01T05:05:05.821715",
     "exception": false,
     "start_time": "2021-03-01T05:05:05.794769",
     "status": "completed"
    },
    "tags": []
   },
   "source": [
    "Now we will going to make a datafame in which we will have rating and number of ratings column"
   ]
  },
  {
   "cell_type": "code",
   "execution_count": 15,
   "metadata": {
    "execution": {
     "iopub.execute_input": "2021-03-01T05:05:05.890323Z",
     "iopub.status.busy": "2021-03-01T05:05:05.889270Z",
     "iopub.status.idle": "2021-03-01T05:05:06.162511Z",
     "shell.execute_reply": "2021-03-01T05:05:06.161635Z"
    },
    "papermill": {
     "duration": 0.313294,
     "end_time": "2021-03-01T05:05:06.162699",
     "exception": false,
     "start_time": "2021-03-01T05:05:05.849405",
     "status": "completed"
    },
    "tags": []
   },
   "outputs": [
    {
     "name": "stdout",
     "output_type": "stream",
     "text": [
      "                                         rating  number of ratings\n",
      "title                                                             \n",
      "Ace Ventura: When Nature Calls (1995)  2.607412              20938\n",
      "Across the Sea of Time (1995)          3.017647                 85\n",
      "Amazing Panda Adventure, The (1995)    2.912069                580\n",
      "American President, The (1995)         3.667713              18162\n",
      "Angela (1995)                          3.115385                 39\n"
     ]
    }
   ],
   "source": [
    "ratings=pd.DataFrame(df.groupby(\"title\").mean()['rating'])\n",
    "ratings['number of ratings']=pd.DataFrame(df.groupby(\"title\").count()[\"rating\"])\n",
    "print(ratings.head())"
   ]
  },
  {
   "cell_type": "code",
   "execution_count": 16,
   "metadata": {
    "execution": {
     "iopub.execute_input": "2021-03-01T05:05:06.231506Z",
     "iopub.status.busy": "2021-03-01T05:05:06.230846Z",
     "iopub.status.idle": "2021-03-01T05:05:06.234886Z",
     "shell.execute_reply": "2021-03-01T05:05:06.235356Z"
    },
    "papermill": {
     "duration": 0.04436,
     "end_time": "2021-03-01T05:05:06.235546",
     "exception": false,
     "start_time": "2021-03-01T05:05:06.191186",
     "status": "completed"
    },
    "tags": []
   },
   "outputs": [
    {
     "data": {
      "text/html": [
       "<div>\n",
       "<style scoped>\n",
       "    .dataframe tbody tr th:only-of-type {\n",
       "        vertical-align: middle;\n",
       "    }\n",
       "\n",
       "    .dataframe tbody tr th {\n",
       "        vertical-align: top;\n",
       "    }\n",
       "\n",
       "    .dataframe thead th {\n",
       "        text-align: right;\n",
       "    }\n",
       "</style>\n",
       "<table border=\"1\" class=\"dataframe\">\n",
       "  <thead>\n",
       "    <tr style=\"text-align: right;\">\n",
       "      <th></th>\n",
       "      <th>rating</th>\n",
       "      <th>number of ratings</th>\n",
       "    </tr>\n",
       "    <tr>\n",
       "      <th>title</th>\n",
       "      <th></th>\n",
       "      <th></th>\n",
       "    </tr>\n",
       "  </thead>\n",
       "  <tbody>\n",
       "    <tr>\n",
       "      <th>Usual Suspects, The (1995)</th>\n",
       "      <td>4.334372</td>\n",
       "      <td>47006</td>\n",
       "    </tr>\n",
       "    <tr>\n",
       "      <th>Taxi Driver (1976)</th>\n",
       "      <td>4.110576</td>\n",
       "      <td>24481</td>\n",
       "    </tr>\n",
       "    <tr>\n",
       "      <th>Persuasion (1995)</th>\n",
       "      <td>4.057546</td>\n",
       "      <td>3154</td>\n",
       "    </tr>\n",
       "    <tr>\n",
       "      <th>Seven (a.k.a. Se7en) (1995)</th>\n",
       "      <td>4.053493</td>\n",
       "      <td>43249</td>\n",
       "    </tr>\n",
       "    <tr>\n",
       "      <th>Braveheart (1995)</th>\n",
       "      <td>4.042534</td>\n",
       "      <td>53769</td>\n",
       "    </tr>\n",
       "    <tr>\n",
       "      <th>...</th>\n",
       "      <td>...</td>\n",
       "      <td>...</td>\n",
       "    </tr>\n",
       "    <tr>\n",
       "      <th>NeverEnding Story III, The (1994)</th>\n",
       "      <td>2.312137</td>\n",
       "      <td>1376</td>\n",
       "    </tr>\n",
       "    <tr>\n",
       "      <th>Lawnmower Man 2: Beyond Cyberspace (1996)</th>\n",
       "      <td>2.144243</td>\n",
       "      <td>2371</td>\n",
       "    </tr>\n",
       "    <tr>\n",
       "      <th>Gospa (1995)</th>\n",
       "      <td>2.142857</td>\n",
       "      <td>14</td>\n",
       "    </tr>\n",
       "    <tr>\n",
       "      <th>Headless Body in Topless Bar (1995)</th>\n",
       "      <td>2.062500</td>\n",
       "      <td>16</td>\n",
       "    </tr>\n",
       "    <tr>\n",
       "      <th>Kids of the Round Table (1995)</th>\n",
       "      <td>1.871429</td>\n",
       "      <td>70</td>\n",
       "    </tr>\n",
       "  </tbody>\n",
       "</table>\n",
       "<p>146 rows × 2 columns</p>\n",
       "</div>"
      ],
      "text/plain": [
       "                                             rating  number of ratings\n",
       "title                                                                 \n",
       "Usual Suspects, The (1995)                 4.334372              47006\n",
       "Taxi Driver (1976)                         4.110576              24481\n",
       "Persuasion (1995)                          4.057546               3154\n",
       "Seven (a.k.a. Se7en) (1995)                4.053493              43249\n",
       "Braveheart (1995)                          4.042534              53769\n",
       "...                                             ...                ...\n",
       "NeverEnding Story III, The (1994)          2.312137               1376\n",
       "Lawnmower Man 2: Beyond Cyberspace (1996)  2.144243               2371\n",
       "Gospa (1995)                               2.142857                 14\n",
       "Headless Body in Topless Bar (1995)        2.062500                 16\n",
       "Kids of the Round Table (1995)             1.871429                 70\n",
       "\n",
       "[146 rows x 2 columns]"
      ]
     },
     "execution_count": 16,
     "metadata": {},
     "output_type": "execute_result"
    }
   ],
   "source": [
    "ratings.sort_values(by='rating', ascending=False)"
   ]
  },
  {
   "cell_type": "code",
   "execution_count": 17,
   "metadata": {
    "execution": {
     "iopub.execute_input": "2021-03-01T05:05:06.307662Z",
     "iopub.status.busy": "2021-03-01T05:05:06.300589Z",
     "iopub.status.idle": "2021-03-01T05:05:06.311733Z",
     "shell.execute_reply": "2021-03-01T05:05:06.311155Z"
    },
    "papermill": {
     "duration": 0.047752,
     "end_time": "2021-03-01T05:05:06.311893",
     "exception": false,
     "start_time": "2021-03-01T05:05:06.264141",
     "status": "completed"
    },
    "tags": []
   },
   "outputs": [
    {
     "data": {
      "text/html": [
       "<div>\n",
       "<style scoped>\n",
       "    .dataframe tbody tr th:only-of-type {\n",
       "        vertical-align: middle;\n",
       "    }\n",
       "\n",
       "    .dataframe tbody tr th {\n",
       "        vertical-align: top;\n",
       "    }\n",
       "\n",
       "    .dataframe thead th {\n",
       "        text-align: right;\n",
       "    }\n",
       "</style>\n",
       "<table border=\"1\" class=\"dataframe\">\n",
       "  <thead>\n",
       "    <tr style=\"text-align: right;\">\n",
       "      <th></th>\n",
       "      <th>rating</th>\n",
       "      <th>number of ratings</th>\n",
       "    </tr>\n",
       "  </thead>\n",
       "  <tbody>\n",
       "    <tr>\n",
       "      <th>count</th>\n",
       "      <td>146.000000</td>\n",
       "      <td>146.000000</td>\n",
       "    </tr>\n",
       "    <tr>\n",
       "      <th>mean</th>\n",
       "      <td>3.282091</td>\n",
       "      <td>6849.315068</td>\n",
       "    </tr>\n",
       "    <tr>\n",
       "      <th>std</th>\n",
       "      <td>0.464475</td>\n",
       "      <td>10554.093747</td>\n",
       "    </tr>\n",
       "    <tr>\n",
       "      <th>min</th>\n",
       "      <td>1.871429</td>\n",
       "      <td>14.000000</td>\n",
       "    </tr>\n",
       "    <tr>\n",
       "      <th>25%</th>\n",
       "      <td>3.056590</td>\n",
       "      <td>576.250000</td>\n",
       "    </tr>\n",
       "    <tr>\n",
       "      <th>50%</th>\n",
       "      <td>3.310810</td>\n",
       "      <td>2545.000000</td>\n",
       "    </tr>\n",
       "    <tr>\n",
       "      <th>75%</th>\n",
       "      <td>3.584594</td>\n",
       "      <td>8382.750000</td>\n",
       "    </tr>\n",
       "    <tr>\n",
       "      <th>max</th>\n",
       "      <td>4.334372</td>\n",
       "      <td>53769.000000</td>\n",
       "    </tr>\n",
       "  </tbody>\n",
       "</table>\n",
       "</div>"
      ],
      "text/plain": [
       "           rating  number of ratings\n",
       "count  146.000000         146.000000\n",
       "mean     3.282091        6849.315068\n",
       "std      0.464475       10554.093747\n",
       "min      1.871429          14.000000\n",
       "25%      3.056590         576.250000\n",
       "50%      3.310810        2545.000000\n",
       "75%      3.584594        8382.750000\n",
       "max      4.334372       53769.000000"
      ]
     },
     "execution_count": 17,
     "metadata": {},
     "output_type": "execute_result"
    }
   ],
   "source": [
    "ratings.describe()"
   ]
  },
  {
   "cell_type": "markdown",
   "metadata": {
    "papermill": {
     "duration": 0.028708,
     "end_time": "2021-03-01T05:05:06.369363",
     "exception": false,
     "start_time": "2021-03-01T05:05:06.340655",
     "status": "completed"
    },
    "tags": []
   },
   "source": [
    "So from above we can see that we don't have any movie with rating 5"
   ]
  },
  {
   "cell_type": "code",
   "execution_count": 18,
   "metadata": {
    "execution": {
     "iopub.execute_input": "2021-03-01T05:05:06.454540Z",
     "iopub.status.busy": "2021-03-01T05:05:06.449801Z",
     "iopub.status.idle": "2021-03-01T05:05:06.608008Z",
     "shell.execute_reply": "2021-03-01T05:05:06.607471Z"
    },
    "papermill": {
     "duration": 0.20981,
     "end_time": "2021-03-01T05:05:06.608157",
     "exception": false,
     "start_time": "2021-03-01T05:05:06.398347",
     "status": "completed"
    },
    "tags": []
   },
   "outputs": [
    {
     "data": {
      "text/plain": [
       "<function matplotlib.pyplot.show(close=None, block=None)>"
      ]
     },
     "execution_count": 18,
     "metadata": {},
     "output_type": "execute_result"
    },
    {
     "data": {
      "image/png": "[encoded data removed]",
      "text/plain": [
       "<Figure size 432x288 with 1 Axes>"
      ]
     },
     "metadata": {
      "needs_background": "light"
     },
     "output_type": "display_data"
    }
   ],
   "source": [
    "plt.hist(ratings['rating'])\n",
    "plt.show"
   ]
  },
  {
   "cell_type": "code",
   "execution_count": 19,
   "metadata": {
    "execution": {
     "iopub.execute_input": "2021-03-01T05:05:06.694530Z",
     "iopub.status.busy": "2021-03-01T05:05:06.690399Z",
     "iopub.status.idle": "2021-03-01T05:05:06.878348Z",
     "shell.execute_reply": "2021-03-01T05:05:06.878804Z"
    },
    "papermill": {
     "duration": 0.240696,
     "end_time": "2021-03-01T05:05:06.878998",
     "exception": false,
     "start_time": "2021-03-01T05:05:06.638302",
     "status": "completed"
    },
    "tags": []
   },
   "outputs": [
    {
     "data": {
      "text/plain": [
       "<function matplotlib.pyplot.show(close=None, block=None)>"
      ]
     },
     "execution_count": 19,
     "metadata": {},
     "output_type": "execute_result"
    },
    {
     "data": {
      "image/png": "[encoded data removed]",
      "text/plain": [
       "<Figure size 432x288 with 1 Axes>"
      ]
     },
     "metadata": {
      "needs_background": "light"
     },
     "output_type": "display_data"
    }
   ],
   "source": [
    "plt.hist(ratings['number of ratings'],bins=50)\n",
    "plt.show"
   ]
  },
  {
   "cell_type": "markdown",
   "metadata": {
    "papermill": {
     "duration": 0.030254,
     "end_time": "2021-03-01T05:05:06.939747",
     "exception": false,
     "start_time": "2021-03-01T05:05:06.909493",
     "status": "completed"
    },
    "tags": []
   },
   "source": [
    "## Recommender System"
   ]
  },
  {
   "cell_type": "code",
   "execution_count": 20,
   "metadata": {
    "execution": {
     "iopub.execute_input": "2021-03-01T05:05:07.008790Z",
     "iopub.status.busy": "2021-03-01T05:05:07.007766Z",
     "iopub.status.idle": "2021-03-01T05:05:08.329304Z",
     "shell.execute_reply": "2021-03-01T05:05:08.328667Z"
    },
    "papermill": {
     "duration": 1.35964,
     "end_time": "2021-03-01T05:05:08.329461",
     "exception": false,
     "start_time": "2021-03-01T05:05:06.969821",
     "status": "completed"
    },
    "tags": []
   },
   "outputs": [
    {
     "data": {
      "text/html": [
       "<div>\n",
       "<style scoped>\n",
       "    .dataframe tbody tr th:only-of-type {\n",
       "        vertical-align: middle;\n",
       "    }\n",
       "\n",
       "    .dataframe tbody tr th {\n",
       "        vertical-align: top;\n",
       "    }\n",
       "\n",
       "    .dataframe thead th {\n",
       "        text-align: right;\n",
       "    }\n",
       "</style>\n",
       "<table border=\"1\" class=\"dataframe\">\n",
       "  <thead>\n",
       "    <tr style=\"text-align: right;\">\n",
       "      <th>title</th>\n",
       "      <th>Ace Ventura: When Nature Calls (1995)</th>\n",
       "      <th>Across the Sea of Time (1995)</th>\n",
       "      <th>Amazing Panda Adventure, The (1995)</th>\n",
       "      <th>American President, The (1995)</th>\n",
       "      <th>Angela (1995)</th>\n",
       "      <th>Angels and Insects (1995)</th>\n",
       "      <th>Anne Frank Remembered (1995)</th>\n",
       "      <th>Antonia's Line (Antonia) (1995)</th>\n",
       "      <th>Assassins (1995)</th>\n",
       "      <th>Babe (1995)</th>\n",
       "      <th>...</th>\n",
       "      <th>Unforgettable (1996)</th>\n",
       "      <th>Up Close and Personal (1996)</th>\n",
       "      <th>Usual Suspects, The (1995)</th>\n",
       "      <th>Vampire in Brooklyn (1995)</th>\n",
       "      <th>Waiting to Exhale (1995)</th>\n",
       "      <th>When Night Is Falling (1995)</th>\n",
       "      <th>White Balloon, The (Badkonake sefid) (1995)</th>\n",
       "      <th>White Squall (1996)</th>\n",
       "      <th>Wings of Courage (1995)</th>\n",
       "      <th>Young Poisoner's Handbook, The (1995)</th>\n",
       "    </tr>\n",
       "    <tr>\n",
       "      <th>userId</th>\n",
       "      <th></th>\n",
       "      <th></th>\n",
       "      <th></th>\n",
       "      <th></th>\n",
       "      <th></th>\n",
       "      <th></th>\n",
       "      <th></th>\n",
       "      <th></th>\n",
       "      <th></th>\n",
       "      <th></th>\n",
       "      <th></th>\n",
       "      <th></th>\n",
       "      <th></th>\n",
       "      <th></th>\n",
       "      <th></th>\n",
       "      <th></th>\n",
       "      <th></th>\n",
       "      <th></th>\n",
       "      <th></th>\n",
       "      <th></th>\n",
       "      <th></th>\n",
       "    </tr>\n",
       "  </thead>\n",
       "  <tbody>\n",
       "    <tr>\n",
       "      <th>1</th>\n",
       "      <td>NaN</td>\n",
       "      <td>NaN</td>\n",
       "      <td>NaN</td>\n",
       "      <td>NaN</td>\n",
       "      <td>NaN</td>\n",
       "      <td>NaN</td>\n",
       "      <td>NaN</td>\n",
       "      <td>NaN</td>\n",
       "      <td>NaN</td>\n",
       "      <td>NaN</td>\n",
       "      <td>...</td>\n",
       "      <td>NaN</td>\n",
       "      <td>NaN</td>\n",
       "      <td>3.5</td>\n",
       "      <td>NaN</td>\n",
       "      <td>NaN</td>\n",
       "      <td>NaN</td>\n",
       "      <td>NaN</td>\n",
       "      <td>NaN</td>\n",
       "      <td>NaN</td>\n",
       "      <td>NaN</td>\n",
       "    </tr>\n",
       "    <tr>\n",
       "      <th>2</th>\n",
       "      <td>NaN</td>\n",
       "      <td>NaN</td>\n",
       "      <td>NaN</td>\n",
       "      <td>NaN</td>\n",
       "      <td>NaN</td>\n",
       "      <td>NaN</td>\n",
       "      <td>NaN</td>\n",
       "      <td>NaN</td>\n",
       "      <td>NaN</td>\n",
       "      <td>NaN</td>\n",
       "      <td>...</td>\n",
       "      <td>NaN</td>\n",
       "      <td>NaN</td>\n",
       "      <td>NaN</td>\n",
       "      <td>NaN</td>\n",
       "      <td>NaN</td>\n",
       "      <td>NaN</td>\n",
       "      <td>NaN</td>\n",
       "      <td>NaN</td>\n",
       "      <td>NaN</td>\n",
       "      <td>NaN</td>\n",
       "    </tr>\n",
       "    <tr>\n",
       "      <th>3</th>\n",
       "      <td>NaN</td>\n",
       "      <td>NaN</td>\n",
       "      <td>NaN</td>\n",
       "      <td>NaN</td>\n",
       "      <td>NaN</td>\n",
       "      <td>NaN</td>\n",
       "      <td>NaN</td>\n",
       "      <td>NaN</td>\n",
       "      <td>NaN</td>\n",
       "      <td>NaN</td>\n",
       "      <td>...</td>\n",
       "      <td>NaN</td>\n",
       "      <td>NaN</td>\n",
       "      <td>5.0</td>\n",
       "      <td>NaN</td>\n",
       "      <td>NaN</td>\n",
       "      <td>NaN</td>\n",
       "      <td>NaN</td>\n",
       "      <td>NaN</td>\n",
       "      <td>NaN</td>\n",
       "      <td>NaN</td>\n",
       "    </tr>\n",
       "    <tr>\n",
       "      <th>4</th>\n",
       "      <td>3.0</td>\n",
       "      <td>NaN</td>\n",
       "      <td>NaN</td>\n",
       "      <td>NaN</td>\n",
       "      <td>NaN</td>\n",
       "      <td>NaN</td>\n",
       "      <td>NaN</td>\n",
       "      <td>NaN</td>\n",
       "      <td>NaN</td>\n",
       "      <td>NaN</td>\n",
       "      <td>...</td>\n",
       "      <td>NaN</td>\n",
       "      <td>NaN</td>\n",
       "      <td>NaN</td>\n",
       "      <td>NaN</td>\n",
       "      <td>NaN</td>\n",
       "      <td>NaN</td>\n",
       "      <td>NaN</td>\n",
       "      <td>NaN</td>\n",
       "      <td>NaN</td>\n",
       "      <td>NaN</td>\n",
       "    </tr>\n",
       "    <tr>\n",
       "      <th>5</th>\n",
       "      <td>NaN</td>\n",
       "      <td>NaN</td>\n",
       "      <td>NaN</td>\n",
       "      <td>5.0</td>\n",
       "      <td>NaN</td>\n",
       "      <td>NaN</td>\n",
       "      <td>NaN</td>\n",
       "      <td>NaN</td>\n",
       "      <td>NaN</td>\n",
       "      <td>NaN</td>\n",
       "      <td>...</td>\n",
       "      <td>NaN</td>\n",
       "      <td>2.0</td>\n",
       "      <td>NaN</td>\n",
       "      <td>NaN</td>\n",
       "      <td>NaN</td>\n",
       "      <td>NaN</td>\n",
       "      <td>NaN</td>\n",
       "      <td>NaN</td>\n",
       "      <td>NaN</td>\n",
       "      <td>NaN</td>\n",
       "    </tr>\n",
       "  </tbody>\n",
       "</table>\n",
       "<p>5 rows × 146 columns</p>\n",
       "</div>"
      ],
      "text/plain": [
       "title   Ace Ventura: When Nature Calls (1995)  Across the Sea of Time (1995)  \\\n",
       "userId                                                                         \n",
       "1                                         NaN                            NaN   \n",
       "2                                         NaN                            NaN   \n",
       "3                                         NaN                            NaN   \n",
       "4                                         3.0                            NaN   \n",
       "5                                         NaN                            NaN   \n",
       "\n",
       "title   Amazing Panda Adventure, The (1995)  American President, The (1995)  \\\n",
       "userId                                                                        \n",
       "1                                       NaN                             NaN   \n",
       "2                                       NaN                             NaN   \n",
       "3                                       NaN                             NaN   \n",
       "4                                       NaN                             NaN   \n",
       "5                                       NaN                             5.0   \n",
       "\n",
       "title   Angela (1995)  Angels and Insects (1995)  \\\n",
       "userId                                             \n",
       "1                 NaN                        NaN   \n",
       "2                 NaN                        NaN   \n",
       "3                 NaN                        NaN   \n",
       "4                 NaN                        NaN   \n",
       "5                 NaN                        NaN   \n",
       "\n",
       "title   Anne Frank Remembered (1995)  Antonia's Line (Antonia) (1995)  \\\n",
       "userId                                                                  \n",
       "1                                NaN                              NaN   \n",
       "2                                NaN                              NaN   \n",
       "3                                NaN                              NaN   \n",
       "4                                NaN                              NaN   \n",
       "5                                NaN                              NaN   \n",
       "\n",
       "title   Assassins (1995)  Babe (1995)  ...  Unforgettable (1996)  \\\n",
       "userId                                 ...                         \n",
       "1                    NaN          NaN  ...                   NaN   \n",
       "2                    NaN          NaN  ...                   NaN   \n",
       "3                    NaN          NaN  ...                   NaN   \n",
       "4                    NaN          NaN  ...                   NaN   \n",
       "5                    NaN          NaN  ...                   NaN   \n",
       "\n",
       "title   Up Close and Personal (1996)  Usual Suspects, The (1995)  \\\n",
       "userId                                                             \n",
       "1                                NaN                         3.5   \n",
       "2                                NaN                         NaN   \n",
       "3                                NaN                         5.0   \n",
       "4                                NaN                         NaN   \n",
       "5                                2.0                         NaN   \n",
       "\n",
       "title   Vampire in Brooklyn (1995)  Waiting to Exhale (1995)  \\\n",
       "userId                                                         \n",
       "1                              NaN                       NaN   \n",
       "2                              NaN                       NaN   \n",
       "3                              NaN                       NaN   \n",
       "4                              NaN                       NaN   \n",
       "5                              NaN                       NaN   \n",
       "\n",
       "title   When Night Is Falling (1995)  \\\n",
       "userId                                 \n",
       "1                                NaN   \n",
       "2                                NaN   \n",
       "3                                NaN   \n",
       "4                                NaN   \n",
       "5                                NaN   \n",
       "\n",
       "title   White Balloon, The (Badkonake sefid) (1995)  White Squall (1996)  \\\n",
       "userId                                                                     \n",
       "1                                               NaN                  NaN   \n",
       "2                                               NaN                  NaN   \n",
       "3                                               NaN                  NaN   \n",
       "4                                               NaN                  NaN   \n",
       "5                                               NaN                  NaN   \n",
       "\n",
       "title   Wings of Courage (1995)  Young Poisoner's Handbook, The (1995)  \n",
       "userId                                                                  \n",
       "1                           NaN                                    NaN  \n",
       "2                           NaN                                    NaN  \n",
       "3                           NaN                                    NaN  \n",
       "4                           NaN                                    NaN  \n",
       "5                           NaN                                    NaN  \n",
       "\n",
       "[5 rows x 146 columns]"
      ]
     },
     "execution_count": 20,
     "metadata": {},
     "output_type": "execute_result"
    }
   ],
   "source": [
    "# lets make a pivot table in order to make rows are users and columns are movies. And values are rating\n",
    "pivot_table = df.pivot_table(index = [\"userId\"],columns = [\"title\"],values = \"rating\")\n",
    "pivot_table.head(5)"
   ]
  },
  {
   "cell_type": "code",
   "execution_count": 21,
   "metadata": {
    "execution": {
     "iopub.execute_input": "2021-03-01T05:05:08.397694Z",
     "iopub.status.busy": "2021-03-01T05:05:08.397080Z",
     "iopub.status.idle": "2021-03-01T05:05:08.399870Z",
     "shell.execute_reply": "2021-03-01T05:05:08.400433Z"
    },
    "papermill": {
     "duration": 0.039596,
     "end_time": "2021-03-01T05:05:08.400619",
     "exception": false,
     "start_time": "2021-03-01T05:05:08.361023",
     "status": "completed"
    },
    "tags": []
   },
   "outputs": [
    {
     "data": {
      "text/plain": [
       "(123161, 146)"
      ]
     },
     "execution_count": 21,
     "metadata": {},
     "output_type": "execute_result"
    }
   ],
   "source": [
    "pivot_table.shape"
   ]
  },
  {
   "cell_type": "markdown",
   "metadata": {
    "papermill": {
     "duration": 0.032088,
     "end_time": "2021-03-01T05:05:08.464706",
     "exception": false,
     "start_time": "2021-03-01T05:05:08.432618",
     "status": "completed"
    },
    "tags": []
   },
   "source": [
    "Now we will make a function which will recommend the movie with their correlation score.Note that higher the correlation more the movie related to each other"
   ]
  },
  {
   "cell_type": "code",
   "execution_count": 22,
   "metadata": {
    "execution": {
     "iopub.execute_input": "2021-03-01T05:05:08.532280Z",
     "iopub.status.busy": "2021-03-01T05:05:08.531573Z",
     "iopub.status.idle": "2021-03-01T05:05:08.536022Z",
     "shell.execute_reply": "2021-03-01T05:05:08.536556Z"
    },
    "papermill": {
     "duration": 0.040203,
     "end_time": "2021-03-01T05:05:08.536724",
     "exception": false,
     "start_time": "2021-03-01T05:05:08.496521",
     "status": "completed"
    },
    "tags": []
   },
   "outputs": [],
   "source": [
    "def recommend_movie(movie):\n",
    "    movie_watched = pivot_table[movie]\n",
    "    similarity_with_other_movies = pivot_table.corrwith(movie_watched)  # find correlation between \"Toy Story (1995)\" and other movies\n",
    "    similarity_with_other_movies = similarity_with_other_movies.sort_values(ascending=False)\n",
    "    return similarity_with_other_movies.head()"
   ]
  },
  {
   "cell_type": "code",
   "execution_count": 23,
   "metadata": {
    "execution": {
     "iopub.execute_input": "2021-03-01T05:05:08.604278Z",
     "iopub.status.busy": "2021-03-01T05:05:08.603663Z",
     "iopub.status.idle": "2021-03-01T05:05:08.904056Z",
     "shell.execute_reply": "2021-03-01T05:05:08.903459Z"
    },
    "papermill": {
     "duration": 0.335211,
     "end_time": "2021-03-01T05:05:08.904200",
     "exception": false,
     "start_time": "2021-03-01T05:05:08.568989",
     "status": "completed"
    },
    "tags": []
   },
   "outputs": [
    {
     "data": {
      "text/plain": [
       "title\n",
       "American President, The (1995)    1.000000\n",
       "Angela (1995)                     0.556186\n",
       "Sonic Outlaws (1995)              0.554700\n",
       "Guardian Angel (1994)             0.527257\n",
       "Nueba Yol (1995)                  0.483607\n",
       "dtype: float64"
      ]
     },
     "execution_count": 23,
     "metadata": {},
     "output_type": "execute_result"
    }
   ],
   "source": [
    "recommend_movie('American President, The (1995)')"
   ]
  },
  {
   "cell_type": "code",
   "execution_count": 24,
   "metadata": {
    "execution": {
     "iopub.execute_input": "2021-03-01T05:05:08.975684Z",
     "iopub.status.busy": "2021-03-01T05:05:08.974565Z",
     "iopub.status.idle": "2021-03-01T05:05:09.303279Z",
     "shell.execute_reply": "2021-03-01T05:05:09.302755Z"
    },
    "papermill": {
     "duration": 0.366639,
     "end_time": "2021-03-01T05:05:09.303425",
     "exception": false,
     "start_time": "2021-03-01T05:05:08.936786",
     "status": "completed"
    },
    "tags": []
   },
   "outputs": [
    {
     "data": {
      "text/plain": [
       "title\n",
       "Toy Story (1995)                                                  1.000000\n",
       "Gospa (1995)                                                      0.516264\n",
       "Shadows (Cienie) (1988)                                           0.508859\n",
       "Happiness Is in the Field (Bonheur est dans le pré, Le) (1995)    0.495360\n",
       "Across the Sea of Time (1995)                                     0.461406\n",
       "dtype: float64"
      ]
     },
     "execution_count": 24,
     "metadata": {},
     "output_type": "execute_result"
    }
   ],
   "source": [
    "recommend_movie('Toy Story (1995)')"
   ]
  },
  {
   "cell_type": "code",
   "execution_count": 25,
   "metadata": {
    "execution": {
     "iopub.execute_input": "2021-03-01T05:05:09.376151Z",
     "iopub.status.busy": "2021-03-01T05:05:09.375048Z",
     "iopub.status.idle": "2021-03-01T05:05:09.694452Z",
     "shell.execute_reply": "2021-03-01T05:05:09.693926Z"
    },
    "papermill": {
     "duration": 0.357801,
     "end_time": "2021-03-01T05:05:09.694590",
     "exception": false,
     "start_time": "2021-03-01T05:05:09.336789",
     "status": "completed"
    },
    "tags": []
   },
   "outputs": [
    {
     "data": {
      "text/plain": [
       "title\n",
       "Taxi Driver (1976)       1.000000\n",
       "Jupiter's Wife (1994)    0.611262\n",
       "Sonic Outlaws (1995)     0.402730\n",
       "Target (1995)            0.401574\n",
       "Catwalk (1996)           0.394233\n",
       "dtype: float64"
      ]
     },
     "execution_count": 25,
     "metadata": {},
     "output_type": "execute_result"
    }
   ],
   "source": [
    "recommend_movie('Taxi Driver (1976)')"
   ]
  },
  {
   "cell_type": "markdown",
   "metadata": {
    "papermill": {
     "duration": 0.033562,
     "end_time": "2021-03-01T05:05:09.761815",
     "exception": false,
     "start_time": "2021-03-01T05:05:09.728253",
     "status": "completed"
    },
    "tags": []
   },
   "source": [
    "- It can be concluded that we need to recommend \"Angela (1995)\" movie to people who watched \"American President, The (1995)\"\n",
    "- It can be concluded that we need to recommend \"Gospa (1995)\" movie to people who watched \"Toy Story (1995)\"\n",
    "- It can be concluded that we need to recommend \"Jupiter's Wife (1994)\" movie to people who watched \"Taxi Driver (1976)\""
   ]
  }
 ],
 "metadata": {
  "kernelspec": {
   "display_name": "Python 3",
   "language": "python",
   "name": "python3"
  },
  "language_info": {
   "codemirror_mode": {
    "name": "ipython",
    "version": 3
   },
   "file_extension": ".py",
   "mimetype": "text/x-python",
   "name": "python",
   "nbconvert_exporter": "python",
   "pygments_lexer": "ipython3",
   "version": "3.7.9"
  },
  "papermill": {
   "default_parameters": {},
   "duration": 39.465578,
   "end_time": "2021-03-01T05:05:10.505896",
   "environment_variables": {},
   "exception": null,
   "input_path": "__notebook__.ipynb",
   "output_path": "__notebook__.ipynb",
   "parameters": {},
   "start_time": "2021-03-01T05:04:31.040318",
   "version": "2.2.2"
  }
 },
 "nbformat": 4,
 "nbformat_minor": 4
}
