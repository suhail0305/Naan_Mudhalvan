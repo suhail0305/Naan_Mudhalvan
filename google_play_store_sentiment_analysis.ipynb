{
 "cells": [
  {
   "cell_type": "code",
   "execution_count": 1,
   "id": "cceeab50",
   "metadata": {
    "execution": {
     "iopub.execute_input": "2024-01-26T13:48:59.787348Z",
     "iopub.status.busy": "2024-01-26T13:48:59.786936Z",
     "iopub.status.idle": "2024-01-26T13:49:02.050822Z",
     "shell.execute_reply": "2024-01-26T13:49:02.049916Z"
    },
    "papermill": {
     "duration": 2.282418,
     "end_time": "2024-01-26T13:49:02.053724",
     "exception": false,
     "start_time": "2024-01-26T13:48:59.771306",
     "status": "completed"
    },
    "tags": []
   },
   "outputs": [],
   "source": [
    "import pandas as pd\n",
    "import numpy as np\n",
    "import matplotlib.pyplot as plt\n",
    "import seaborn as sns\n",
    "%matplotlib inline"
   ]
  },
  {
   "cell_type": "code",
   "execution_count": 2,
   "id": "66a035e2",
   "metadata": {
    "execution": {
     "iopub.execute_input": "2024-01-26T13:49:02.082652Z",
     "iopub.status.busy": "2024-01-26T13:49:02.082095Z",
     "iopub.status.idle": "2024-01-26T13:49:02.326735Z",
     "shell.execute_reply": "2024-01-26T13:49:02.325620Z"
    },
    "papermill": {
     "duration": 0.262352,
     "end_time": "2024-01-26T13:49:02.329761",
     "exception": false,
     "start_time": "2024-01-26T13:49:02.067409",
     "status": "completed"
    },
    "tags": []
   },
   "outputs": [],
   "source": [
    "#Read the dataset \n",
    "df = pd.read_csv('/kaggle/input/google-play-store-reviews/reviews.csv')"
   ]
  },
  {
   "cell_type": "code",
   "execution_count": 3,
   "id": "392db463",
   "metadata": {
    "execution": {
     "iopub.execute_input": "2024-01-26T13:49:02.358737Z",
     "iopub.status.busy": "2024-01-26T13:49:02.358363Z",
     "iopub.status.idle": "2024-01-26T13:49:02.386590Z",
     "shell.execute_reply": "2024-01-26T13:49:02.385549Z"
    },
    "papermill": {
     "duration": 0.045495,
     "end_time": "2024-01-26T13:49:02.388997",
     "exception": false,
     "start_time": "2024-01-26T13:49:02.343502",
     "status": "completed"
    },
    "tags": []
   },
   "outputs": [
    {
     "data": {
      "text/html": [
       "<div>\n",
       "<style scoped>\n",
       "    .dataframe tbody tr th:only-of-type {\n",
       "        vertical-align: middle;\n",
       "    }\n",
       "\n",
       "    .dataframe tbody tr th {\n",
       "        vertical-align: top;\n",
       "    }\n",
       "\n",
       "    .dataframe thead th {\n",
       "        text-align: right;\n",
       "    }\n",
       "</style>\n",
       "<table border=\"1\" class=\"dataframe\">\n",
       "  <thead>\n",
       "    <tr style=\"text-align: right;\">\n",
       "      <th></th>\n",
       "      <th>reviewId</th>\n",
       "      <th>userName</th>\n",
       "      <th>userImage</th>\n",
       "      <th>content</th>\n",
       "      <th>score</th>\n",
       "      <th>thumbsUpCount</th>\n",
       "      <th>reviewCreatedVersion</th>\n",
       "      <th>at</th>\n",
       "      <th>replyContent</th>\n",
       "      <th>repliedAt</th>\n",
       "      <th>sortOrder</th>\n",
       "      <th>appId</th>\n",
       "    </tr>\n",
       "  </thead>\n",
       "  <tbody>\n",
       "    <tr>\n",
       "      <th>0</th>\n",
       "      <td>gp:AOqpTOEhZuqSqqWnaKRgv-9ABYdajFUB0WugPGh-SG-...</td>\n",
       "      <td>Eric Tie</td>\n",
       "      <td>https://play-lh.googleusercontent.com/a-/AOh14...</td>\n",
       "      <td>I cannot open the app anymore</td>\n",
       "      <td>1</td>\n",
       "      <td>0</td>\n",
       "      <td>5.4.0.6</td>\n",
       "      <td>2020-10-27 21:24:41</td>\n",
       "      <td>NaN</td>\n",
       "      <td>NaN</td>\n",
       "      <td>newest</td>\n",
       "      <td>com.anydo</td>\n",
       "    </tr>\n",
       "    <tr>\n",
       "      <th>1</th>\n",
       "      <td>gp:AOqpTOH0WP4IQKBZ2LrdNmFy_YmpPCVrV3diEU9KGm3...</td>\n",
       "      <td>john alpha</td>\n",
       "      <td>https://play-lh.googleusercontent.com/a-/AOh14...</td>\n",
       "      <td>I have been begging for a refund from this app...</td>\n",
       "      <td>1</td>\n",
       "      <td>0</td>\n",
       "      <td>NaN</td>\n",
       "      <td>2020-10-27 14:03:28</td>\n",
       "      <td>Please note that from checking our records, yo...</td>\n",
       "      <td>2020-10-27 15:05:52</td>\n",
       "      <td>newest</td>\n",
       "      <td>com.anydo</td>\n",
       "    </tr>\n",
       "    <tr>\n",
       "      <th>2</th>\n",
       "      <td>gp:AOqpTOEMCkJB8Iq1p-r9dPwnSYadA5BkPWTf32Z1azu...</td>\n",
       "      <td>Sudhakar .S</td>\n",
       "      <td>https://play-lh.googleusercontent.com/a-/AOh14...</td>\n",
       "      <td>Very costly for the premium version (approx In...</td>\n",
       "      <td>1</td>\n",
       "      <td>0</td>\n",
       "      <td>NaN</td>\n",
       "      <td>2020-10-27 08:18:40</td>\n",
       "      <td>NaN</td>\n",
       "      <td>NaN</td>\n",
       "      <td>newest</td>\n",
       "      <td>com.anydo</td>\n",
       "    </tr>\n",
       "    <tr>\n",
       "      <th>3</th>\n",
       "      <td>gp:AOqpTOGFrUWuKGycpje8kszj3uwHN6tU_fd4gLVFy9z...</td>\n",
       "      <td>SKGflorida@bellsouth.net DAVID S</td>\n",
       "      <td>https://play-lh.googleusercontent.com/-75aK0WF...</td>\n",
       "      <td>Used to keep me organized, but all the 2020 UP...</td>\n",
       "      <td>1</td>\n",
       "      <td>0</td>\n",
       "      <td>NaN</td>\n",
       "      <td>2020-10-26 13:28:07</td>\n",
       "      <td>What do you find troublesome about the update?...</td>\n",
       "      <td>2020-10-26 14:58:29</td>\n",
       "      <td>newest</td>\n",
       "      <td>com.anydo</td>\n",
       "    </tr>\n",
       "    <tr>\n",
       "      <th>4</th>\n",
       "      <td>gp:AOqpTOHls7DW8wmDFzTkHwxuqFkdNQtKHmO6Pt9jhZE...</td>\n",
       "      <td>Louann Stoker</td>\n",
       "      <td>https://play-lh.googleusercontent.com/-pBcY_Z-...</td>\n",
       "      <td>Dan Birthday Oct 28</td>\n",
       "      <td>1</td>\n",
       "      <td>0</td>\n",
       "      <td>5.6.0.7</td>\n",
       "      <td>2020-10-26 06:10:50</td>\n",
       "      <td>NaN</td>\n",
       "      <td>NaN</td>\n",
       "      <td>newest</td>\n",
       "      <td>com.anydo</td>\n",
       "    </tr>\n",
       "  </tbody>\n",
       "</table>\n",
       "</div>"
      ],
      "text/plain": [
       "                                            reviewId  \\\n",
       "0  gp:AOqpTOEhZuqSqqWnaKRgv-9ABYdajFUB0WugPGh-SG-...   \n",
       "1  gp:AOqpTOH0WP4IQKBZ2LrdNmFy_YmpPCVrV3diEU9KGm3...   \n",
       "2  gp:AOqpTOEMCkJB8Iq1p-r9dPwnSYadA5BkPWTf32Z1azu...   \n",
       "3  gp:AOqpTOGFrUWuKGycpje8kszj3uwHN6tU_fd4gLVFy9z...   \n",
       "4  gp:AOqpTOHls7DW8wmDFzTkHwxuqFkdNQtKHmO6Pt9jhZE...   \n",
       "\n",
       "                           userName  \\\n",
       "0                          Eric Tie   \n",
       "1                        john alpha   \n",
       "2                       Sudhakar .S   \n",
       "3  SKGflorida@bellsouth.net DAVID S   \n",
       "4                     Louann Stoker   \n",
       "\n",
       "                                           userImage  \\\n",
       "0  https://play-lh.googleusercontent.com/a-/AOh14...   \n",
       "1  https://play-lh.googleusercontent.com/a-/AOh14...   \n",
       "2  https://play-lh.googleusercontent.com/a-/AOh14...   \n",
       "3  https://play-lh.googleusercontent.com/-75aK0WF...   \n",
       "4  https://play-lh.googleusercontent.com/-pBcY_Z-...   \n",
       "\n",
       "                                             content  score  thumbsUpCount  \\\n",
       "0                      I cannot open the app anymore      1              0   \n",
       "1  I have been begging for a refund from this app...      1              0   \n",
       "2  Very costly for the premium version (approx In...      1              0   \n",
       "3  Used to keep me organized, but all the 2020 UP...      1              0   \n",
       "4                                Dan Birthday Oct 28      1              0   \n",
       "\n",
       "  reviewCreatedVersion                   at  \\\n",
       "0              5.4.0.6  2020-10-27 21:24:41   \n",
       "1                  NaN  2020-10-27 14:03:28   \n",
       "2                  NaN  2020-10-27 08:18:40   \n",
       "3                  NaN  2020-10-26 13:28:07   \n",
       "4              5.6.0.7  2020-10-26 06:10:50   \n",
       "\n",
       "                                        replyContent            repliedAt  \\\n",
       "0                                                NaN                  NaN   \n",
       "1  Please note that from checking our records, yo...  2020-10-27 15:05:52   \n",
       "2                                                NaN                  NaN   \n",
       "3  What do you find troublesome about the update?...  2020-10-26 14:58:29   \n",
       "4                                                NaN                  NaN   \n",
       "\n",
       "  sortOrder      appId  \n",
       "0    newest  com.anydo  \n",
       "1    newest  com.anydo  \n",
       "2    newest  com.anydo  \n",
       "3    newest  com.anydo  \n",
       "4    newest  com.anydo  "
      ]
     },
     "execution_count": 3,
     "metadata": {},
     "output_type": "execute_result"
    }
   ],
   "source": [
    "df.head()"
   ]
  },
  {
   "cell_type": "code",
   "execution_count": 4,
   "id": "e60b1221",
   "metadata": {
    "execution": {
     "iopub.execute_input": "2024-01-26T13:49:02.418419Z",
     "iopub.status.busy": "2024-01-26T13:49:02.417631Z",
     "iopub.status.idle": "2024-01-26T13:49:02.529885Z",
     "shell.execute_reply": "2024-01-26T13:49:02.528200Z"
    },
    "papermill": {
     "duration": 0.130919,
     "end_time": "2024-01-26T13:49:02.533392",
     "exception": false,
     "start_time": "2024-01-26T13:49:02.402473",
     "status": "completed"
    },
    "tags": []
   },
   "outputs": [
    {
     "name": "stdout",
     "output_type": "stream",
     "text": [
      "<class 'pandas.core.frame.DataFrame'>\n",
      "RangeIndex: 12495 entries, 0 to 12494\n",
      "Data columns (total 12 columns):\n",
      " #   Column                Non-Null Count  Dtype \n",
      "---  ------                --------------  ----- \n",
      " 0   reviewId              12495 non-null  object\n",
      " 1   userName              12495 non-null  object\n",
      " 2   userImage             12495 non-null  object\n",
      " 3   content               12495 non-null  object\n",
      " 4   score                 12495 non-null  int64 \n",
      " 5   thumbsUpCount         12495 non-null  int64 \n",
      " 6   reviewCreatedVersion  10333 non-null  object\n",
      " 7   at                    12495 non-null  object\n",
      " 8   replyContent          5818 non-null   object\n",
      " 9   repliedAt             5818 non-null   object\n",
      " 10  sortOrder             12495 non-null  object\n",
      " 11  appId                 12495 non-null  object\n",
      "dtypes: int64(2), object(10)\n",
      "memory usage: 1.1+ MB\n"
     ]
    }
   ],
   "source": [
    "df.info()"
   ]
  },
  {
   "cell_type": "code",
   "execution_count": 5,
   "id": "7764e02e",
   "metadata": {
    "execution": {
     "iopub.execute_input": "2024-01-26T13:49:02.563583Z",
     "iopub.status.busy": "2024-01-26T13:49:02.563178Z",
     "iopub.status.idle": "2024-01-26T13:49:02.582008Z",
     "shell.execute_reply": "2024-01-26T13:49:02.581182Z"
    },
    "papermill": {
     "duration": 0.036497,
     "end_time": "2024-01-26T13:49:02.584087",
     "exception": false,
     "start_time": "2024-01-26T13:49:02.547590",
     "status": "completed"
    },
    "tags": []
   },
   "outputs": [
    {
     "data": {
      "text/html": [
       "<div>\n",
       "<style scoped>\n",
       "    .dataframe tbody tr th:only-of-type {\n",
       "        vertical-align: middle;\n",
       "    }\n",
       "\n",
       "    .dataframe tbody tr th {\n",
       "        vertical-align: top;\n",
       "    }\n",
       "\n",
       "    .dataframe thead th {\n",
       "        text-align: right;\n",
       "    }\n",
       "</style>\n",
       "<table border=\"1\" class=\"dataframe\">\n",
       "  <thead>\n",
       "    <tr style=\"text-align: right;\">\n",
       "      <th></th>\n",
       "      <th>score</th>\n",
       "      <th>thumbsUpCount</th>\n",
       "    </tr>\n",
       "  </thead>\n",
       "  <tbody>\n",
       "    <tr>\n",
       "      <th>count</th>\n",
       "      <td>12495.000000</td>\n",
       "      <td>12495.000000</td>\n",
       "    </tr>\n",
       "    <tr>\n",
       "      <th>mean</th>\n",
       "      <td>3.094198</td>\n",
       "      <td>3.047459</td>\n",
       "    </tr>\n",
       "    <tr>\n",
       "      <th>std</th>\n",
       "      <td>1.457693</td>\n",
       "      <td>14.303903</td>\n",
       "    </tr>\n",
       "    <tr>\n",
       "      <th>min</th>\n",
       "      <td>1.000000</td>\n",
       "      <td>0.000000</td>\n",
       "    </tr>\n",
       "    <tr>\n",
       "      <th>25%</th>\n",
       "      <td>2.000000</td>\n",
       "      <td>0.000000</td>\n",
       "    </tr>\n",
       "    <tr>\n",
       "      <th>50%</th>\n",
       "      <td>3.000000</td>\n",
       "      <td>0.000000</td>\n",
       "    </tr>\n",
       "    <tr>\n",
       "      <th>75%</th>\n",
       "      <td>4.000000</td>\n",
       "      <td>1.000000</td>\n",
       "    </tr>\n",
       "    <tr>\n",
       "      <th>max</th>\n",
       "      <td>5.000000</td>\n",
       "      <td>397.000000</td>\n",
       "    </tr>\n",
       "  </tbody>\n",
       "</table>\n",
       "</div>"
      ],
      "text/plain": [
       "              score  thumbsUpCount\n",
       "count  12495.000000   12495.000000\n",
       "mean       3.094198       3.047459\n",
       "std        1.457693      14.303903\n",
       "min        1.000000       0.000000\n",
       "25%        2.000000       0.000000\n",
       "50%        3.000000       0.000000\n",
       "75%        4.000000       1.000000\n",
       "max        5.000000     397.000000"
      ]
     },
     "execution_count": 5,
     "metadata": {},
     "output_type": "execute_result"
    }
   ],
   "source": [
    "df.describe()"
   ]
  },
  {
   "cell_type": "code",
   "execution_count": 6,
   "id": "5e66ada5",
   "metadata": {
    "execution": {
     "iopub.execute_input": "2024-01-26T13:49:02.616133Z",
     "iopub.status.busy": "2024-01-26T13:49:02.615100Z",
     "iopub.status.idle": "2024-01-26T13:49:02.625585Z",
     "shell.execute_reply": "2024-01-26T13:49:02.624816Z"
    },
    "papermill": {
     "duration": 0.028814,
     "end_time": "2024-01-26T13:49:02.628061",
     "exception": false,
     "start_time": "2024-01-26T13:49:02.599247",
     "status": "completed"
    },
    "tags": []
   },
   "outputs": [],
   "source": [
    "df= df.drop(['replyContent','repliedAt'],axis=1)"
   ]
  },
  {
   "cell_type": "code",
   "execution_count": 7,
   "id": "552c01cd",
   "metadata": {
    "execution": {
     "iopub.execute_input": "2024-01-26T13:49:02.659332Z",
     "iopub.status.busy": "2024-01-26T13:49:02.658742Z",
     "iopub.status.idle": "2024-01-26T13:49:03.462221Z",
     "shell.execute_reply": "2024-01-26T13:49:03.461086Z"
    },
    "papermill": {
     "duration": 0.822179,
     "end_time": "2024-01-26T13:49:03.464628",
     "exception": false,
     "start_time": "2024-01-26T13:49:02.642449",
     "status": "completed"
    },
    "tags": []
   },
   "outputs": [
    {
     "data": {
      "text/plain": [
       "<Axes: >"
      ]
     },
     "execution_count": 7,
     "metadata": {},
     "output_type": "execute_result"
    },
    {
     "data": {
      "image/png": "[encoded data removed]",
      "text/plain": [
       "<Figure size 640x480 with 2 Axes>"
      ]
     },
     "metadata": {},
     "output_type": "display_data"
    }
   ],
   "source": [
    "sns.heatmap(df.isnull())"
   ]
  },
  {
   "cell_type": "code",
   "execution_count": 8,
   "id": "2e4b48c8",
   "metadata": {
    "execution": {
     "iopub.execute_input": "2024-01-26T13:49:03.496065Z",
     "iopub.status.busy": "2024-01-26T13:49:03.495702Z",
     "iopub.status.idle": "2024-01-26T13:49:03.513908Z",
     "shell.execute_reply": "2024-01-26T13:49:03.513006Z"
    },
    "papermill": {
     "duration": 0.036843,
     "end_time": "2024-01-26T13:49:03.516068",
     "exception": false,
     "start_time": "2024-01-26T13:49:03.479225",
     "status": "completed"
    },
    "tags": []
   },
   "outputs": [],
   "source": [
    "df=df.dropna()"
   ]
  },
  {
   "cell_type": "code",
   "execution_count": 9,
   "id": "5e09f524",
   "metadata": {
    "execution": {
     "iopub.execute_input": "2024-01-26T13:49:03.547098Z",
     "iopub.status.busy": "2024-01-26T13:49:03.546716Z",
     "iopub.status.idle": "2024-01-26T13:49:03.563656Z",
     "shell.execute_reply": "2024-01-26T13:49:03.562681Z"
    },
    "papermill": {
     "duration": 0.034976,
     "end_time": "2024-01-26T13:49:03.565816",
     "exception": false,
     "start_time": "2024-01-26T13:49:03.530840",
     "status": "completed"
    },
    "tags": []
   },
   "outputs": [
    {
     "data": {
      "text/plain": [
       "reviewId                0\n",
       "userName                0\n",
       "userImage               0\n",
       "content                 0\n",
       "score                   0\n",
       "thumbsUpCount           0\n",
       "reviewCreatedVersion    0\n",
       "at                      0\n",
       "sortOrder               0\n",
       "appId                   0\n",
       "dtype: int64"
      ]
     },
     "execution_count": 9,
     "metadata": {},
     "output_type": "execute_result"
    }
   ],
   "source": [
    "df.isnull().sum()"
   ]
  },
  {
   "cell_type": "code",
   "execution_count": 10,
   "id": "f62efac5",
   "metadata": {
    "execution": {
     "iopub.execute_input": "2024-01-26T13:49:03.597804Z",
     "iopub.status.busy": "2024-01-26T13:49:03.597393Z",
     "iopub.status.idle": "2024-01-26T13:49:03.603122Z",
     "shell.execute_reply": "2024-01-26T13:49:03.602514Z"
    },
    "papermill": {
     "duration": 0.024375,
     "end_time": "2024-01-26T13:49:03.605091",
     "exception": false,
     "start_time": "2024-01-26T13:49:03.580716",
     "status": "completed"
    },
    "tags": []
   },
   "outputs": [
    {
     "data": {
      "text/plain": [
       "(10333, 10)"
      ]
     },
     "execution_count": 10,
     "metadata": {},
     "output_type": "execute_result"
    }
   ],
   "source": [
    "df.shape"
   ]
  },
  {
   "cell_type": "code",
   "execution_count": 11,
   "id": "3055b116",
   "metadata": {
    "execution": {
     "iopub.execute_input": "2024-01-26T13:49:03.637236Z",
     "iopub.status.busy": "2024-01-26T13:49:03.636673Z",
     "iopub.status.idle": "2024-01-26T13:49:03.643177Z",
     "shell.execute_reply": "2024-01-26T13:49:03.642202Z"
    },
    "papermill": {
     "duration": 0.025355,
     "end_time": "2024-01-26T13:49:03.645273",
     "exception": false,
     "start_time": "2024-01-26T13:49:03.619918",
     "status": "completed"
    },
    "tags": []
   },
   "outputs": [],
   "source": [
    "df_new=df[(df.score==1) | (df.score==5)]"
   ]
  },
  {
   "cell_type": "code",
   "execution_count": 12,
   "id": "c2451e6b",
   "metadata": {
    "execution": {
     "iopub.execute_input": "2024-01-26T13:49:03.735394Z",
     "iopub.status.busy": "2024-01-26T13:49:03.734790Z",
     "iopub.status.idle": "2024-01-26T13:49:03.748724Z",
     "shell.execute_reply": "2024-01-26T13:49:03.747973Z"
    },
    "papermill": {
     "duration": 0.090825,
     "end_time": "2024-01-26T13:49:03.751216",
     "exception": false,
     "start_time": "2024-01-26T13:49:03.660391",
     "status": "completed"
    },
    "tags": []
   },
   "outputs": [
    {
     "data": {
      "text/html": [
       "<div>\n",
       "<style scoped>\n",
       "    .dataframe tbody tr th:only-of-type {\n",
       "        vertical-align: middle;\n",
       "    }\n",
       "\n",
       "    .dataframe tbody tr th {\n",
       "        vertical-align: top;\n",
       "    }\n",
       "\n",
       "    .dataframe thead th {\n",
       "        text-align: right;\n",
       "    }\n",
       "</style>\n",
       "<table border=\"1\" class=\"dataframe\">\n",
       "  <thead>\n",
       "    <tr style=\"text-align: right;\">\n",
       "      <th></th>\n",
       "      <th>reviewId</th>\n",
       "      <th>userName</th>\n",
       "      <th>userImage</th>\n",
       "      <th>content</th>\n",
       "      <th>score</th>\n",
       "      <th>thumbsUpCount</th>\n",
       "      <th>reviewCreatedVersion</th>\n",
       "      <th>at</th>\n",
       "      <th>sortOrder</th>\n",
       "      <th>appId</th>\n",
       "    </tr>\n",
       "  </thead>\n",
       "  <tbody>\n",
       "    <tr>\n",
       "      <th>0</th>\n",
       "      <td>gp:AOqpTOEhZuqSqqWnaKRgv-9ABYdajFUB0WugPGh-SG-...</td>\n",
       "      <td>Eric Tie</td>\n",
       "      <td>https://play-lh.googleusercontent.com/a-/AOh14...</td>\n",
       "      <td>I cannot open the app anymore</td>\n",
       "      <td>1</td>\n",
       "      <td>0</td>\n",
       "      <td>5.4.0.6</td>\n",
       "      <td>2020-10-27 21:24:41</td>\n",
       "      <td>newest</td>\n",
       "      <td>com.anydo</td>\n",
       "    </tr>\n",
       "    <tr>\n",
       "      <th>4</th>\n",
       "      <td>gp:AOqpTOHls7DW8wmDFzTkHwxuqFkdNQtKHmO6Pt9jhZE...</td>\n",
       "      <td>Louann Stoker</td>\n",
       "      <td>https://play-lh.googleusercontent.com/-pBcY_Z-...</td>\n",
       "      <td>Dan Birthday Oct 28</td>\n",
       "      <td>1</td>\n",
       "      <td>0</td>\n",
       "      <td>5.6.0.7</td>\n",
       "      <td>2020-10-26 06:10:50</td>\n",
       "      <td>newest</td>\n",
       "      <td>com.anydo</td>\n",
       "    </tr>\n",
       "    <tr>\n",
       "      <th>5</th>\n",
       "      <td>gp:AOqpTOEvElPsBa6k8rLDmk-WrEoJea98KUrIGYWodJe...</td>\n",
       "      <td>Jon Clemens</td>\n",
       "      <td>https://play-lh.googleusercontent.com/-q6L1fx0...</td>\n",
       "      <td>It has changed how I viewed my different lists...</td>\n",
       "      <td>1</td>\n",
       "      <td>1</td>\n",
       "      <td>5.6.0.7</td>\n",
       "      <td>2020-10-26 05:04:20</td>\n",
       "      <td>newest</td>\n",
       "      <td>com.anydo</td>\n",
       "    </tr>\n",
       "    <tr>\n",
       "      <th>6</th>\n",
       "      <td>gp:AOqpTOGHb-APKKMNFyL1OwuGq1AGW6bQp5aYYxSHvJx...</td>\n",
       "      <td>Gale W</td>\n",
       "      <td>https://play-lh.googleusercontent.com/a-/AOh14...</td>\n",
       "      <td>I'm only looking for a grocery list app but ev...</td>\n",
       "      <td>1</td>\n",
       "      <td>0</td>\n",
       "      <td>5.6.0.6</td>\n",
       "      <td>2020-10-25 23:40:46</td>\n",
       "      <td>newest</td>\n",
       "      <td>com.anydo</td>\n",
       "    </tr>\n",
       "    <tr>\n",
       "      <th>7</th>\n",
       "      <td>gp:AOqpTOEcxvv_c0CK3G5tHjxXsGSjbzD65OQ3og02p-q...</td>\n",
       "      <td>No One</td>\n",
       "      <td>https://play-lh.googleusercontent.com/a-/AOh14...</td>\n",
       "      <td>Reset my free trial, new phone I'd like to see...</td>\n",
       "      <td>1</td>\n",
       "      <td>0</td>\n",
       "      <td>5.5.0.8</td>\n",
       "      <td>2020-10-25 19:18:13</td>\n",
       "      <td>newest</td>\n",
       "      <td>com.anydo</td>\n",
       "    </tr>\n",
       "  </tbody>\n",
       "</table>\n",
       "</div>"
      ],
      "text/plain": [
       "                                            reviewId       userName  \\\n",
       "0  gp:AOqpTOEhZuqSqqWnaKRgv-9ABYdajFUB0WugPGh-SG-...       Eric Tie   \n",
       "4  gp:AOqpTOHls7DW8wmDFzTkHwxuqFkdNQtKHmO6Pt9jhZE...  Louann Stoker   \n",
       "5  gp:AOqpTOEvElPsBa6k8rLDmk-WrEoJea98KUrIGYWodJe...    Jon Clemens   \n",
       "6  gp:AOqpTOGHb-APKKMNFyL1OwuGq1AGW6bQp5aYYxSHvJx...         Gale W   \n",
       "7  gp:AOqpTOEcxvv_c0CK3G5tHjxXsGSjbzD65OQ3og02p-q...         No One   \n",
       "\n",
       "                                           userImage  \\\n",
       "0  https://play-lh.googleusercontent.com/a-/AOh14...   \n",
       "4  https://play-lh.googleusercontent.com/-pBcY_Z-...   \n",
       "5  https://play-lh.googleusercontent.com/-q6L1fx0...   \n",
       "6  https://play-lh.googleusercontent.com/a-/AOh14...   \n",
       "7  https://play-lh.googleusercontent.com/a-/AOh14...   \n",
       "\n",
       "                                             content  score  thumbsUpCount  \\\n",
       "0                      I cannot open the app anymore      1              0   \n",
       "4                                Dan Birthday Oct 28      1              0   \n",
       "5  It has changed how I viewed my different lists...      1              1   \n",
       "6  I'm only looking for a grocery list app but ev...      1              0   \n",
       "7  Reset my free trial, new phone I'd like to see...      1              0   \n",
       "\n",
       "  reviewCreatedVersion                   at sortOrder      appId  \n",
       "0              5.4.0.6  2020-10-27 21:24:41    newest  com.anydo  \n",
       "4              5.6.0.7  2020-10-26 06:10:50    newest  com.anydo  \n",
       "5              5.6.0.7  2020-10-26 05:04:20    newest  com.anydo  \n",
       "6              5.6.0.6  2020-10-25 23:40:46    newest  com.anydo  \n",
       "7              5.5.0.8  2020-10-25 19:18:13    newest  com.anydo  "
      ]
     },
     "execution_count": 12,
     "metadata": {},
     "output_type": "execute_result"
    }
   ],
   "source": [
    "df_new.head()"
   ]
  },
  {
   "cell_type": "code",
   "execution_count": 13,
   "id": "6e22cec3",
   "metadata": {
    "execution": {
     "iopub.execute_input": "2024-01-26T13:49:03.785660Z",
     "iopub.status.busy": "2024-01-26T13:49:03.785012Z",
     "iopub.status.idle": "2024-01-26T13:49:03.790541Z",
     "shell.execute_reply": "2024-01-26T13:49:03.789790Z"
    },
    "papermill": {
     "duration": 0.025003,
     "end_time": "2024-01-26T13:49:03.792662",
     "exception": false,
     "start_time": "2024-01-26T13:49:03.767659",
     "status": "completed"
    },
    "tags": []
   },
   "outputs": [
    {
     "data": {
      "text/plain": [
       "(4383, 10)"
      ]
     },
     "execution_count": 13,
     "metadata": {},
     "output_type": "execute_result"
    }
   ],
   "source": [
    "df_new.shape"
   ]
  },
  {
   "cell_type": "code",
   "execution_count": 14,
   "id": "babd569c",
   "metadata": {
    "execution": {
     "iopub.execute_input": "2024-01-26T13:49:03.826694Z",
     "iopub.status.busy": "2024-01-26T13:49:03.826050Z",
     "iopub.status.idle": "2024-01-26T13:49:03.836034Z",
     "shell.execute_reply": "2024-01-26T13:49:03.835174Z"
    },
    "papermill": {
     "duration": 0.029943,
     "end_time": "2024-01-26T13:49:03.838678",
     "exception": false,
     "start_time": "2024-01-26T13:49:03.808735",
     "status": "completed"
    },
    "tags": []
   },
   "outputs": [
    {
     "name": "stderr",
     "output_type": "stream",
     "text": [
      "/tmp/ipykernel_19/1274885061.py:1: SettingWithCopyWarning: \n",
      "A value is trying to be set on a copy of a slice from a DataFrame.\n",
      "Try using .loc[row_indexer,col_indexer] = value instead\n",
      "\n",
      "See the caveats in the documentation: https://pandas.pydata.org/pandas-docs/stable/user_guide/indexing.html#returning-a-view-versus-a-copy\n",
      "  df_new['length']= df_new['content'].apply(lambda x : len(x) )\n"
     ]
    }
   ],
   "source": [
    "df_new['length']= df_new['content'].apply(lambda x : len(x) )"
   ]
  },
  {
   "cell_type": "code",
   "execution_count": 15,
   "id": "a385cad5",
   "metadata": {
    "execution": {
     "iopub.execute_input": "2024-01-26T13:49:03.873828Z",
     "iopub.status.busy": "2024-01-26T13:49:03.873172Z",
     "iopub.status.idle": "2024-01-26T13:49:03.893372Z",
     "shell.execute_reply": "2024-01-26T13:49:03.892262Z"
    },
    "papermill": {
     "duration": 0.040407,
     "end_time": "2024-01-26T13:49:03.895643",
     "exception": false,
     "start_time": "2024-01-26T13:49:03.855236",
     "status": "completed"
    },
    "tags": []
   },
   "outputs": [
    {
     "data": {
      "text/html": [
       "<div>\n",
       "<style scoped>\n",
       "    .dataframe tbody tr th:only-of-type {\n",
       "        vertical-align: middle;\n",
       "    }\n",
       "\n",
       "    .dataframe tbody tr th {\n",
       "        vertical-align: top;\n",
       "    }\n",
       "\n",
       "    .dataframe thead th {\n",
       "        text-align: right;\n",
       "    }\n",
       "</style>\n",
       "<table border=\"1\" class=\"dataframe\">\n",
       "  <thead>\n",
       "    <tr style=\"text-align: right;\">\n",
       "      <th></th>\n",
       "      <th>reviewId</th>\n",
       "      <th>userName</th>\n",
       "      <th>userImage</th>\n",
       "      <th>content</th>\n",
       "      <th>score</th>\n",
       "      <th>thumbsUpCount</th>\n",
       "      <th>reviewCreatedVersion</th>\n",
       "      <th>at</th>\n",
       "      <th>sortOrder</th>\n",
       "      <th>appId</th>\n",
       "      <th>length</th>\n",
       "    </tr>\n",
       "  </thead>\n",
       "  <tbody>\n",
       "    <tr>\n",
       "      <th>0</th>\n",
       "      <td>gp:AOqpTOEhZuqSqqWnaKRgv-9ABYdajFUB0WugPGh-SG-...</td>\n",
       "      <td>Eric Tie</td>\n",
       "      <td>https://play-lh.googleusercontent.com/a-/AOh14...</td>\n",
       "      <td>I cannot open the app anymore</td>\n",
       "      <td>1</td>\n",
       "      <td>0</td>\n",
       "      <td>5.4.0.6</td>\n",
       "      <td>2020-10-27 21:24:41</td>\n",
       "      <td>newest</td>\n",
       "      <td>com.anydo</td>\n",
       "      <td>29</td>\n",
       "    </tr>\n",
       "    <tr>\n",
       "      <th>4</th>\n",
       "      <td>gp:AOqpTOHls7DW8wmDFzTkHwxuqFkdNQtKHmO6Pt9jhZE...</td>\n",
       "      <td>Louann Stoker</td>\n",
       "      <td>https://play-lh.googleusercontent.com/-pBcY_Z-...</td>\n",
       "      <td>Dan Birthday Oct 28</td>\n",
       "      <td>1</td>\n",
       "      <td>0</td>\n",
       "      <td>5.6.0.7</td>\n",
       "      <td>2020-10-26 06:10:50</td>\n",
       "      <td>newest</td>\n",
       "      <td>com.anydo</td>\n",
       "      <td>19</td>\n",
       "    </tr>\n",
       "    <tr>\n",
       "      <th>5</th>\n",
       "      <td>gp:AOqpTOEvElPsBa6k8rLDmk-WrEoJea98KUrIGYWodJe...</td>\n",
       "      <td>Jon Clemens</td>\n",
       "      <td>https://play-lh.googleusercontent.com/-q6L1fx0...</td>\n",
       "      <td>It has changed how I viewed my different lists...</td>\n",
       "      <td>1</td>\n",
       "      <td>1</td>\n",
       "      <td>5.6.0.7</td>\n",
       "      <td>2020-10-26 05:04:20</td>\n",
       "      <td>newest</td>\n",
       "      <td>com.anydo</td>\n",
       "      <td>111</td>\n",
       "    </tr>\n",
       "    <tr>\n",
       "      <th>6</th>\n",
       "      <td>gp:AOqpTOGHb-APKKMNFyL1OwuGq1AGW6bQp5aYYxSHvJx...</td>\n",
       "      <td>Gale W</td>\n",
       "      <td>https://play-lh.googleusercontent.com/a-/AOh14...</td>\n",
       "      <td>I'm only looking for a grocery list app but ev...</td>\n",
       "      <td>1</td>\n",
       "      <td>0</td>\n",
       "      <td>5.6.0.6</td>\n",
       "      <td>2020-10-25 23:40:46</td>\n",
       "      <td>newest</td>\n",
       "      <td>com.anydo</td>\n",
       "      <td>476</td>\n",
       "    </tr>\n",
       "    <tr>\n",
       "      <th>7</th>\n",
       "      <td>gp:AOqpTOEcxvv_c0CK3G5tHjxXsGSjbzD65OQ3og02p-q...</td>\n",
       "      <td>No One</td>\n",
       "      <td>https://play-lh.googleusercontent.com/a-/AOh14...</td>\n",
       "      <td>Reset my free trial, new phone I'd like to see...</td>\n",
       "      <td>1</td>\n",
       "      <td>0</td>\n",
       "      <td>5.5.0.8</td>\n",
       "      <td>2020-10-25 19:18:13</td>\n",
       "      <td>newest</td>\n",
       "      <td>com.anydo</td>\n",
       "      <td>62</td>\n",
       "    </tr>\n",
       "    <tr>\n",
       "      <th>...</th>\n",
       "      <td>...</td>\n",
       "      <td>...</td>\n",
       "      <td>...</td>\n",
       "      <td>...</td>\n",
       "      <td>...</td>\n",
       "      <td>...</td>\n",
       "      <td>...</td>\n",
       "      <td>...</td>\n",
       "      <td>...</td>\n",
       "      <td>...</td>\n",
       "      <td>...</td>\n",
       "    </tr>\n",
       "    <tr>\n",
       "      <th>12489</th>\n",
       "      <td>gp:AOqpTOE0ZIV4Bklvw8ho4SYW3rTe-z18AhfK0JtR5Dd...</td>\n",
       "      <td>Mind Engineering</td>\n",
       "      <td>https://play-lh.googleusercontent.com/a-/AOh14...</td>\n",
       "      <td>its ok But we can not undestad repeated task s...</td>\n",
       "      <td>5</td>\n",
       "      <td>0</td>\n",
       "      <td>4.5.4</td>\n",
       "      <td>2019-01-07 20:20:35</td>\n",
       "      <td>newest</td>\n",
       "      <td>com.appxy.planner</td>\n",
       "      <td>52</td>\n",
       "    </tr>\n",
       "    <tr>\n",
       "      <th>12490</th>\n",
       "      <td>gp:AOqpTOEQPqib7pb6vFyjMY9JEfsMs_u8WCdqg6mbcar...</td>\n",
       "      <td>Mildred Olima</td>\n",
       "      <td>https://play-lh.googleusercontent.com/a-/AOh14...</td>\n",
       "      <td>I really like the planner, it helps me achieve...</td>\n",
       "      <td>5</td>\n",
       "      <td>0</td>\n",
       "      <td>4.5.4</td>\n",
       "      <td>2018-12-21 00:13:09</td>\n",
       "      <td>newest</td>\n",
       "      <td>com.appxy.planner</td>\n",
       "      <td>122</td>\n",
       "    </tr>\n",
       "    <tr>\n",
       "      <th>12492</th>\n",
       "      <td>gp:AOqpTOFEn5UgYYggqiHKauDJVLLN8-16nk1AfZbEhkj...</td>\n",
       "      <td>amirbadang</td>\n",
       "      <td>https://play-lh.googleusercontent.com/-CM2FcrU...</td>\n",
       "      <td>Very useful apps. You must try it</td>\n",
       "      <td>5</td>\n",
       "      <td>0</td>\n",
       "      <td>4.5.4</td>\n",
       "      <td>2018-12-11 15:49:43</td>\n",
       "      <td>newest</td>\n",
       "      <td>com.appxy.planner</td>\n",
       "      <td>33</td>\n",
       "    </tr>\n",
       "    <tr>\n",
       "      <th>12493</th>\n",
       "      <td>gp:AOqpTOHOH6YdYLR91qZdYpeIVkMI-LeAE0EwYgrctid...</td>\n",
       "      <td>Emma Stebbins</td>\n",
       "      <td>https://play-lh.googleusercontent.com/-oCj6g6k...</td>\n",
       "      <td>Would pay for this if there were even more add...</td>\n",
       "      <td>5</td>\n",
       "      <td>0</td>\n",
       "      <td>4.5.4</td>\n",
       "      <td>2018-12-06 04:59:26</td>\n",
       "      <td>newest</td>\n",
       "      <td>com.appxy.planner</td>\n",
       "      <td>128</td>\n",
       "    </tr>\n",
       "    <tr>\n",
       "      <th>12494</th>\n",
       "      <td>gp:AOqpTOFuJtS1McUdEZuLCnRn7k-UUcGNml7XqxKTSk2...</td>\n",
       "      <td>DAVOR SPASENOSKI</td>\n",
       "      <td>https://play-lh.googleusercontent.com/a-/AOh14...</td>\n",
       "      <td>Sooow good</td>\n",
       "      <td>5</td>\n",
       "      <td>0</td>\n",
       "      <td>4.5.4</td>\n",
       "      <td>2018-11-26 01:19:13</td>\n",
       "      <td>newest</td>\n",
       "      <td>com.appxy.planner</td>\n",
       "      <td>10</td>\n",
       "    </tr>\n",
       "  </tbody>\n",
       "</table>\n",
       "<p>4383 rows × 11 columns</p>\n",
       "</div>"
      ],
      "text/plain": [
       "                                                reviewId          userName  \\\n",
       "0      gp:AOqpTOEhZuqSqqWnaKRgv-9ABYdajFUB0WugPGh-SG-...          Eric Tie   \n",
       "4      gp:AOqpTOHls7DW8wmDFzTkHwxuqFkdNQtKHmO6Pt9jhZE...     Louann Stoker   \n",
       "5      gp:AOqpTOEvElPsBa6k8rLDmk-WrEoJea98KUrIGYWodJe...       Jon Clemens   \n",
       "6      gp:AOqpTOGHb-APKKMNFyL1OwuGq1AGW6bQp5aYYxSHvJx...            Gale W   \n",
       "7      gp:AOqpTOEcxvv_c0CK3G5tHjxXsGSjbzD65OQ3og02p-q...            No One   \n",
       "...                                                  ...               ...   \n",
       "12489  gp:AOqpTOE0ZIV4Bklvw8ho4SYW3rTe-z18AhfK0JtR5Dd...  Mind Engineering   \n",
       "12490  gp:AOqpTOEQPqib7pb6vFyjMY9JEfsMs_u8WCdqg6mbcar...     Mildred Olima   \n",
       "12492  gp:AOqpTOFEn5UgYYggqiHKauDJVLLN8-16nk1AfZbEhkj...        amirbadang   \n",
       "12493  gp:AOqpTOHOH6YdYLR91qZdYpeIVkMI-LeAE0EwYgrctid...     Emma Stebbins   \n",
       "12494  gp:AOqpTOFuJtS1McUdEZuLCnRn7k-UUcGNml7XqxKTSk2...  DAVOR SPASENOSKI   \n",
       "\n",
       "                                               userImage  \\\n",
       "0      https://play-lh.googleusercontent.com/a-/AOh14...   \n",
       "4      https://play-lh.googleusercontent.com/-pBcY_Z-...   \n",
       "5      https://play-lh.googleusercontent.com/-q6L1fx0...   \n",
       "6      https://play-lh.googleusercontent.com/a-/AOh14...   \n",
       "7      https://play-lh.googleusercontent.com/a-/AOh14...   \n",
       "...                                                  ...   \n",
       "12489  https://play-lh.googleusercontent.com/a-/AOh14...   \n",
       "12490  https://play-lh.googleusercontent.com/a-/AOh14...   \n",
       "12492  https://play-lh.googleusercontent.com/-CM2FcrU...   \n",
       "12493  https://play-lh.googleusercontent.com/-oCj6g6k...   \n",
       "12494  https://play-lh.googleusercontent.com/a-/AOh14...   \n",
       "\n",
       "                                                 content  score  \\\n",
       "0                          I cannot open the app anymore      1   \n",
       "4                                    Dan Birthday Oct 28      1   \n",
       "5      It has changed how I viewed my different lists...      1   \n",
       "6      I'm only looking for a grocery list app but ev...      1   \n",
       "7      Reset my free trial, new phone I'd like to see...      1   \n",
       "...                                                  ...    ...   \n",
       "12489  its ok But we can not undestad repeated task s...      5   \n",
       "12490  I really like the planner, it helps me achieve...      5   \n",
       "12492                  Very useful apps. You must try it      5   \n",
       "12493  Would pay for this if there were even more add...      5   \n",
       "12494                                         Sooow good      5   \n",
       "\n",
       "       thumbsUpCount reviewCreatedVersion                   at sortOrder  \\\n",
       "0                  0              5.4.0.6  2020-10-27 21:24:41    newest   \n",
       "4                  0              5.6.0.7  2020-10-26 06:10:50    newest   \n",
       "5                  1              5.6.0.7  2020-10-26 05:04:20    newest   \n",
       "6                  0              5.6.0.6  2020-10-25 23:40:46    newest   \n",
       "7                  0              5.5.0.8  2020-10-25 19:18:13    newest   \n",
       "...              ...                  ...                  ...       ...   \n",
       "12489              0                4.5.4  2019-01-07 20:20:35    newest   \n",
       "12490              0                4.5.4  2018-12-21 00:13:09    newest   \n",
       "12492              0                4.5.4  2018-12-11 15:49:43    newest   \n",
       "12493              0                4.5.4  2018-12-06 04:59:26    newest   \n",
       "12494              0                4.5.4  2018-11-26 01:19:13    newest   \n",
       "\n",
       "                   appId  length  \n",
       "0              com.anydo      29  \n",
       "4              com.anydo      19  \n",
       "5              com.anydo     111  \n",
       "6              com.anydo     476  \n",
       "7              com.anydo      62  \n",
       "...                  ...     ...  \n",
       "12489  com.appxy.planner      52  \n",
       "12490  com.appxy.planner     122  \n",
       "12492  com.appxy.planner      33  \n",
       "12493  com.appxy.planner     128  \n",
       "12494  com.appxy.planner      10  \n",
       "\n",
       "[4383 rows x 11 columns]"
      ]
     },
     "execution_count": 15,
     "metadata": {},
     "output_type": "execute_result"
    }
   ],
   "source": [
    "df_new"
   ]
  },
  {
   "cell_type": "code",
   "execution_count": 16,
   "id": "0c74b602",
   "metadata": {
    "execution": {
     "iopub.execute_input": "2024-01-26T13:49:03.930849Z",
     "iopub.status.busy": "2024-01-26T13:49:03.930449Z",
     "iopub.status.idle": "2024-01-26T13:49:03.937008Z",
     "shell.execute_reply": "2024-01-26T13:49:03.935971Z"
    },
    "papermill": {
     "duration": 0.026853,
     "end_time": "2024-01-26T13:49:03.939230",
     "exception": false,
     "start_time": "2024-01-26T13:49:03.912377",
     "status": "completed"
    },
    "tags": []
   },
   "outputs": [],
   "source": [
    "df_new = pd.DataFrame(data=df_new,columns=['content','length','score'])"
   ]
  },
  {
   "cell_type": "code",
   "execution_count": 17,
   "id": "a5eec59f",
   "metadata": {
    "execution": {
     "iopub.execute_input": "2024-01-26T13:49:03.974742Z",
     "iopub.status.busy": "2024-01-26T13:49:03.973942Z",
     "iopub.status.idle": "2024-01-26T13:49:03.985134Z",
     "shell.execute_reply": "2024-01-26T13:49:03.983993Z"
    },
    "papermill": {
     "duration": 0.031232,
     "end_time": "2024-01-26T13:49:03.987299",
     "exception": false,
     "start_time": "2024-01-26T13:49:03.956067",
     "status": "completed"
    },
    "tags": []
   },
   "outputs": [
    {
     "data": {
      "text/html": [
       "<div>\n",
       "<style scoped>\n",
       "    .dataframe tbody tr th:only-of-type {\n",
       "        vertical-align: middle;\n",
       "    }\n",
       "\n",
       "    .dataframe tbody tr th {\n",
       "        vertical-align: top;\n",
       "    }\n",
       "\n",
       "    .dataframe thead th {\n",
       "        text-align: right;\n",
       "    }\n",
       "</style>\n",
       "<table border=\"1\" class=\"dataframe\">\n",
       "  <thead>\n",
       "    <tr style=\"text-align: right;\">\n",
       "      <th></th>\n",
       "      <th>content</th>\n",
       "      <th>length</th>\n",
       "      <th>score</th>\n",
       "    </tr>\n",
       "  </thead>\n",
       "  <tbody>\n",
       "    <tr>\n",
       "      <th>0</th>\n",
       "      <td>I cannot open the app anymore</td>\n",
       "      <td>29</td>\n",
       "      <td>1</td>\n",
       "    </tr>\n",
       "    <tr>\n",
       "      <th>4</th>\n",
       "      <td>Dan Birthday Oct 28</td>\n",
       "      <td>19</td>\n",
       "      <td>1</td>\n",
       "    </tr>\n",
       "    <tr>\n",
       "      <th>5</th>\n",
       "      <td>It has changed how I viewed my different lists...</td>\n",
       "      <td>111</td>\n",
       "      <td>1</td>\n",
       "    </tr>\n",
       "    <tr>\n",
       "      <th>6</th>\n",
       "      <td>I'm only looking for a grocery list app but ev...</td>\n",
       "      <td>476</td>\n",
       "      <td>1</td>\n",
       "    </tr>\n",
       "    <tr>\n",
       "      <th>7</th>\n",
       "      <td>Reset my free trial, new phone I'd like to see...</td>\n",
       "      <td>62</td>\n",
       "      <td>1</td>\n",
       "    </tr>\n",
       "  </tbody>\n",
       "</table>\n",
       "</div>"
      ],
      "text/plain": [
       "                                             content  length  score\n",
       "0                      I cannot open the app anymore      29      1\n",
       "4                                Dan Birthday Oct 28      19      1\n",
       "5  It has changed how I viewed my different lists...     111      1\n",
       "6  I'm only looking for a grocery list app but ev...     476      1\n",
       "7  Reset my free trial, new phone I'd like to see...      62      1"
      ]
     },
     "execution_count": 17,
     "metadata": {},
     "output_type": "execute_result"
    }
   ],
   "source": [
    "df_new.head()"
   ]
  },
  {
   "cell_type": "code",
   "execution_count": 18,
   "id": "d7bb9164",
   "metadata": {
    "execution": {
     "iopub.execute_input": "2024-01-26T13:49:04.022483Z",
     "iopub.status.busy": "2024-01-26T13:49:04.021588Z",
     "iopub.status.idle": "2024-01-26T13:49:04.026242Z",
     "shell.execute_reply": "2024-01-26T13:49:04.025460Z"
    },
    "papermill": {
     "duration": 0.024439,
     "end_time": "2024-01-26T13:49:04.028279",
     "exception": false,
     "start_time": "2024-01-26T13:49:04.003840",
     "status": "completed"
    },
    "tags": []
   },
   "outputs": [],
   "source": [
    "import string"
   ]
  },
  {
   "cell_type": "code",
   "execution_count": 19,
   "id": "53b73714",
   "metadata": {
    "execution": {
     "iopub.execute_input": "2024-01-26T13:49:04.065146Z",
     "iopub.status.busy": "2024-01-26T13:49:04.064021Z",
     "iopub.status.idle": "2024-01-26T13:49:04.070859Z",
     "shell.execute_reply": "2024-01-26T13:49:04.069814Z"
    },
    "papermill": {
     "duration": 0.027701,
     "end_time": "2024-01-26T13:49:04.073035",
     "exception": false,
     "start_time": "2024-01-26T13:49:04.045334",
     "status": "completed"
    },
    "tags": []
   },
   "outputs": [
    {
     "data": {
      "text/plain": [
       "'!\"#$%&\\'()*+,-./:;<=>?@[\\\\]^_`{|}~'"
      ]
     },
     "execution_count": 19,
     "metadata": {},
     "output_type": "execute_result"
    }
   ],
   "source": [
    "string.punctuation"
   ]
  },
  {
   "cell_type": "code",
   "execution_count": 20,
   "id": "17e87d97",
   "metadata": {
    "execution": {
     "iopub.execute_input": "2024-01-26T13:49:04.108351Z",
     "iopub.status.busy": "2024-01-26T13:49:04.107919Z",
     "iopub.status.idle": "2024-01-26T13:49:04.202706Z",
     "shell.execute_reply": "2024-01-26T13:49:04.201574Z"
    },
    "papermill": {
     "duration": 0.115337,
     "end_time": "2024-01-26T13:49:04.205572",
     "exception": false,
     "start_time": "2024-01-26T13:49:04.090235",
     "status": "completed"
    },
    "tags": []
   },
   "outputs": [],
   "source": [
    "df_new['nopunc'] = df_new['content'].apply(lambda x: [a for a in x if a not in string.punctuation])"
   ]
  },
  {
   "cell_type": "code",
   "execution_count": 21,
   "id": "f12902a2",
   "metadata": {
    "execution": {
     "iopub.execute_input": "2024-01-26T13:49:04.241236Z",
     "iopub.status.busy": "2024-01-26T13:49:04.240843Z",
     "iopub.status.idle": "2024-01-26T13:49:04.247499Z",
     "shell.execute_reply": "2024-01-26T13:49:04.246395Z"
    },
    "papermill": {
     "duration": 0.026911,
     "end_time": "2024-01-26T13:49:04.249757",
     "exception": false,
     "start_time": "2024-01-26T13:49:04.222846",
     "status": "completed"
    },
    "tags": []
   },
   "outputs": [],
   "source": [
    "df_new = pd.DataFrame(data=df_new,columns=['nopunc','length','score'])"
   ]
  },
  {
   "cell_type": "code",
   "execution_count": 22,
   "id": "133c00fd",
   "metadata": {
    "execution": {
     "iopub.execute_input": "2024-01-26T13:49:04.284663Z",
     "iopub.status.busy": "2024-01-26T13:49:04.284224Z",
     "iopub.status.idle": "2024-01-26T13:49:04.305609Z",
     "shell.execute_reply": "2024-01-26T13:49:04.304570Z"
    },
    "papermill": {
     "duration": 0.041076,
     "end_time": "2024-01-26T13:49:04.307779",
     "exception": false,
     "start_time": "2024-01-26T13:49:04.266703",
     "status": "completed"
    },
    "tags": []
   },
   "outputs": [],
   "source": [
    "df_new['nopunc'] = df_new['nopunc'].apply(''.join)"
   ]
  },
  {
   "cell_type": "code",
   "execution_count": 23,
   "id": "76934854",
   "metadata": {
    "execution": {
     "iopub.execute_input": "2024-01-26T13:49:04.342327Z",
     "iopub.status.busy": "2024-01-26T13:49:04.341934Z",
     "iopub.status.idle": "2024-01-26T13:49:04.354428Z",
     "shell.execute_reply": "2024-01-26T13:49:04.353719Z"
    },
    "papermill": {
     "duration": 0.031853,
     "end_time": "2024-01-26T13:49:04.356555",
     "exception": false,
     "start_time": "2024-01-26T13:49:04.324702",
     "status": "completed"
    },
    "tags": []
   },
   "outputs": [
    {
     "data": {
      "text/html": [
       "<div>\n",
       "<style scoped>\n",
       "    .dataframe tbody tr th:only-of-type {\n",
       "        vertical-align: middle;\n",
       "    }\n",
       "\n",
       "    .dataframe tbody tr th {\n",
       "        vertical-align: top;\n",
       "    }\n",
       "\n",
       "    .dataframe thead th {\n",
       "        text-align: right;\n",
       "    }\n",
       "</style>\n",
       "<table border=\"1\" class=\"dataframe\">\n",
       "  <thead>\n",
       "    <tr style=\"text-align: right;\">\n",
       "      <th></th>\n",
       "      <th>nopunc</th>\n",
       "      <th>length</th>\n",
       "      <th>score</th>\n",
       "    </tr>\n",
       "  </thead>\n",
       "  <tbody>\n",
       "    <tr>\n",
       "      <th>0</th>\n",
       "      <td>I cannot open the app anymore</td>\n",
       "      <td>29</td>\n",
       "      <td>1</td>\n",
       "    </tr>\n",
       "    <tr>\n",
       "      <th>4</th>\n",
       "      <td>Dan Birthday Oct 28</td>\n",
       "      <td>19</td>\n",
       "      <td>1</td>\n",
       "    </tr>\n",
       "    <tr>\n",
       "      <th>5</th>\n",
       "      <td>It has changed how I viewed my different lists...</td>\n",
       "      <td>111</td>\n",
       "      <td>1</td>\n",
       "    </tr>\n",
       "    <tr>\n",
       "      <th>6</th>\n",
       "      <td>Im only looking for a grocery list app but eve...</td>\n",
       "      <td>476</td>\n",
       "      <td>1</td>\n",
       "    </tr>\n",
       "    <tr>\n",
       "      <th>7</th>\n",
       "      <td>Reset my free trial new phone Id like to see i...</td>\n",
       "      <td>62</td>\n",
       "      <td>1</td>\n",
       "    </tr>\n",
       "    <tr>\n",
       "      <th>...</th>\n",
       "      <td>...</td>\n",
       "      <td>...</td>\n",
       "      <td>...</td>\n",
       "    </tr>\n",
       "    <tr>\n",
       "      <th>12489</th>\n",
       "      <td>its ok But we can not undestad repeated task s...</td>\n",
       "      <td>52</td>\n",
       "      <td>5</td>\n",
       "    </tr>\n",
       "    <tr>\n",
       "      <th>12490</th>\n",
       "      <td>I really like the planner it helps me achieve ...</td>\n",
       "      <td>122</td>\n",
       "      <td>5</td>\n",
       "    </tr>\n",
       "    <tr>\n",
       "      <th>12492</th>\n",
       "      <td>Very useful apps You must try it</td>\n",
       "      <td>33</td>\n",
       "      <td>5</td>\n",
       "    </tr>\n",
       "    <tr>\n",
       "      <th>12493</th>\n",
       "      <td>Would pay for this if there were even more add...</td>\n",
       "      <td>128</td>\n",
       "      <td>5</td>\n",
       "    </tr>\n",
       "    <tr>\n",
       "      <th>12494</th>\n",
       "      <td>Sooow good</td>\n",
       "      <td>10</td>\n",
       "      <td>5</td>\n",
       "    </tr>\n",
       "  </tbody>\n",
       "</table>\n",
       "<p>4383 rows × 3 columns</p>\n",
       "</div>"
      ],
      "text/plain": [
       "                                                  nopunc  length  score\n",
       "0                          I cannot open the app anymore      29      1\n",
       "4                                    Dan Birthday Oct 28      19      1\n",
       "5      It has changed how I viewed my different lists...     111      1\n",
       "6      Im only looking for a grocery list app but eve...     476      1\n",
       "7      Reset my free trial new phone Id like to see i...      62      1\n",
       "...                                                  ...     ...    ...\n",
       "12489  its ok But we can not undestad repeated task s...      52      5\n",
       "12490  I really like the planner it helps me achieve ...     122      5\n",
       "12492                   Very useful apps You must try it      33      5\n",
       "12493  Would pay for this if there were even more add...     128      5\n",
       "12494                                         Sooow good      10      5\n",
       "\n",
       "[4383 rows x 3 columns]"
      ]
     },
     "execution_count": 23,
     "metadata": {},
     "output_type": "execute_result"
    }
   ],
   "source": [
    "df_new"
   ]
  },
  {
   "cell_type": "code",
   "execution_count": 24,
   "id": "4a8d1400",
   "metadata": {
    "execution": {
     "iopub.execute_input": "2024-01-26T13:49:04.393097Z",
     "iopub.status.busy": "2024-01-26T13:49:04.392708Z",
     "iopub.status.idle": "2024-01-26T13:49:04.397274Z",
     "shell.execute_reply": "2024-01-26T13:49:04.396482Z"
    },
    "papermill": {
     "duration": 0.025488,
     "end_time": "2024-01-26T13:49:04.399392",
     "exception": false,
     "start_time": "2024-01-26T13:49:04.373904",
     "status": "completed"
    },
    "tags": []
   },
   "outputs": [],
   "source": [
    "X=df_new['nopunc']\n",
    "y=df_new['score']"
   ]
  },
  {
   "cell_type": "code",
   "execution_count": 25,
   "id": "66fa7570",
   "metadata": {
    "execution": {
     "iopub.execute_input": "2024-01-26T13:49:04.434958Z",
     "iopub.status.busy": "2024-01-26T13:49:04.434567Z",
     "iopub.status.idle": "2024-01-26T13:49:04.596660Z",
     "shell.execute_reply": "2024-01-26T13:49:04.595484Z"
    },
    "papermill": {
     "duration": 0.183104,
     "end_time": "2024-01-26T13:49:04.599306",
     "exception": false,
     "start_time": "2024-01-26T13:49:04.416202",
     "status": "completed"
    },
    "tags": []
   },
   "outputs": [],
   "source": [
    "from sklearn.feature_extraction.text import CountVectorizer\n",
    "cv = CountVectorizer()"
   ]
  },
  {
   "cell_type": "code",
   "execution_count": 26,
   "id": "3c4579f8",
   "metadata": {
    "execution": {
     "iopub.execute_input": "2024-01-26T13:49:04.635668Z",
     "iopub.status.busy": "2024-01-26T13:49:04.635229Z",
     "iopub.status.idle": "2024-01-26T13:49:04.829152Z",
     "shell.execute_reply": "2024-01-26T13:49:04.827129Z"
    },
    "papermill": {
     "duration": 0.215939,
     "end_time": "2024-01-26T13:49:04.832650",
     "exception": false,
     "start_time": "2024-01-26T13:49:04.616711",
     "status": "completed"
    },
    "tags": []
   },
   "outputs": [],
   "source": [
    "X= cv.fit_transform(X)"
   ]
  },
  {
   "cell_type": "code",
   "execution_count": 27,
   "id": "149913b2",
   "metadata": {
    "execution": {
     "iopub.execute_input": "2024-01-26T13:49:04.878608Z",
     "iopub.status.busy": "2024-01-26T13:49:04.878233Z",
     "iopub.status.idle": "2024-01-26T13:49:04.977570Z",
     "shell.execute_reply": "2024-01-26T13:49:04.976165Z"
    },
    "papermill": {
     "duration": 0.123374,
     "end_time": "2024-01-26T13:49:04.980062",
     "exception": false,
     "start_time": "2024-01-26T13:49:04.856688",
     "status": "completed"
    },
    "tags": []
   },
   "outputs": [],
   "source": [
    "from sklearn.model_selection import train_test_split"
   ]
  },
  {
   "cell_type": "code",
   "execution_count": 28,
   "id": "4572a345",
   "metadata": {
    "execution": {
     "iopub.execute_input": "2024-01-26T13:49:05.015956Z",
     "iopub.status.busy": "2024-01-26T13:49:05.015546Z",
     "iopub.status.idle": "2024-01-26T13:49:05.024495Z",
     "shell.execute_reply": "2024-01-26T13:49:05.023422Z"
    },
    "papermill": {
     "duration": 0.029313,
     "end_time": "2024-01-26T13:49:05.026758",
     "exception": false,
     "start_time": "2024-01-26T13:49:04.997445",
     "status": "completed"
    },
    "tags": []
   },
   "outputs": [],
   "source": [
    "X_train,X_test,y_train,y_test = train_test_split(X,y,test_size=0.3,random_state=101)"
   ]
  },
  {
   "cell_type": "code",
   "execution_count": 29,
   "id": "6ef03174",
   "metadata": {
    "execution": {
     "iopub.execute_input": "2024-01-26T13:49:05.061574Z",
     "iopub.status.busy": "2024-01-26T13:49:05.061191Z",
     "iopub.status.idle": "2024-01-26T13:49:05.067592Z",
     "shell.execute_reply": "2024-01-26T13:49:05.066815Z"
    },
    "papermill": {
     "duration": 0.025955,
     "end_time": "2024-01-26T13:49:05.069583",
     "exception": false,
     "start_time": "2024-01-26T13:49:05.043628",
     "status": "completed"
    },
    "tags": []
   },
   "outputs": [],
   "source": [
    "from sklearn.naive_bayes import MultinomialNB\n",
    "nb = MultinomialNB()"
   ]
  },
  {
   "cell_type": "code",
   "execution_count": 30,
   "id": "1d2f87fc",
   "metadata": {
    "execution": {
     "iopub.execute_input": "2024-01-26T13:49:05.102705Z",
     "iopub.status.busy": "2024-01-26T13:49:05.102331Z",
     "iopub.status.idle": "2024-01-26T13:49:05.115739Z",
     "shell.execute_reply": "2024-01-26T13:49:05.114698Z"
    },
    "papermill": {
     "duration": 0.032751,
     "end_time": "2024-01-26T13:49:05.117962",
     "exception": false,
     "start_time": "2024-01-26T13:49:05.085211",
     "status": "completed"
    },
    "tags": []
   },
   "outputs": [
    {
     "data": {
      "text/html": [
       "<style>#sk-container-id-1 {color: black;background-color: white;}#sk-container-id-1 pre{padding: 0;}#sk-container-id-1 div.sk-toggleable {background-color: white;}#sk-container-id-1 label.sk-toggleable__label {cursor: pointer;display: block;width: 100%;margin-bottom: 0;padding: 0.3em;box-sizing: border-box;text-align: center;}#sk-container-id-1 label.sk-toggleable__label-arrow:before {content: \"▸\";float: left;margin-right: 0.25em;color: #696969;}#sk-container-id-1 label.sk-toggleable__label-arrow:hover:before {color: black;}#sk-container-id-1 div.sk-estimator:hover label.sk-toggleable__label-arrow:before {color: black;}#sk-container-id-1 div.sk-toggleable__content {max-height: 0;max-width: 0;overflow: hidden;text-align: left;background-color: #f0f8ff;}#sk-container-id-1 div.sk-toggleable__content pre {margin: 0.2em;color: black;border-radius: 0.25em;background-color: #f0f8ff;}#sk-container-id-1 input.sk-toggleable__control:checked~div.sk-toggleable__content {max-height: 200px;max-width: 100%;overflow: auto;}#sk-container-id-1 input.sk-toggleable__control:checked~label.sk-toggleable__label-arrow:before {content: \"▾\";}#sk-container-id-1 div.sk-estimator input.sk-toggleable__control:checked~label.sk-toggleable__label {background-color: #d4ebff;}#sk-container-id-1 div.sk-label input.sk-toggleable__control:checked~label.sk-toggleable__label {background-color: #d4ebff;}#sk-container-id-1 input.sk-hidden--visually {border: 0;clip: rect(1px 1px 1px 1px);clip: rect(1px, 1px, 1px, 1px);height: 1px;margin: -1px;overflow: hidden;padding: 0;position: absolute;width: 1px;}#sk-container-id-1 div.sk-estimator {font-family: monospace;background-color: #f0f8ff;border: 1px dotted black;border-radius: 0.25em;box-sizing: border-box;margin-bottom: 0.5em;}#sk-container-id-1 div.sk-estimator:hover {background-color: #d4ebff;}#sk-container-id-1 div.sk-parallel-item::after {content: \"\";width: 100%;border-bottom: 1px solid gray;flex-grow: 1;}#sk-container-id-1 div.sk-label:hover label.sk-toggleable__label {background-color: #d4ebff;}#sk-container-id-1 div.sk-serial::before {content: \"\";position: absolute;border-left: 1px solid gray;box-sizing: border-box;top: 0;bottom: 0;left: 50%;z-index: 0;}#sk-container-id-1 div.sk-serial {display: flex;flex-direction: column;align-items: center;background-color: white;padding-right: 0.2em;padding-left: 0.2em;position: relative;}#sk-container-id-1 div.sk-item {position: relative;z-index: 1;}#sk-container-id-1 div.sk-parallel {display: flex;align-items: stretch;justify-content: center;background-color: white;position: relative;}#sk-container-id-1 div.sk-item::before, #sk-container-id-1 div.sk-parallel-item::before {content: \"\";position: absolute;border-left: 1px solid gray;box-sizing: border-box;top: 0;bottom: 0;left: 50%;z-index: -1;}#sk-container-id-1 div.sk-parallel-item {display: flex;flex-direction: column;z-index: 1;position: relative;background-color: white;}#sk-container-id-1 div.sk-parallel-item:first-child::after {align-self: flex-end;width: 50%;}#sk-container-id-1 div.sk-parallel-item:last-child::after {align-self: flex-start;width: 50%;}#sk-container-id-1 div.sk-parallel-item:only-child::after {width: 0;}#sk-container-id-1 div.sk-dashed-wrapped {border: 1px dashed gray;margin: 0 0.4em 0.5em 0.4em;box-sizing: border-box;padding-bottom: 0.4em;background-color: white;}#sk-container-id-1 div.sk-label label {font-family: monospace;font-weight: bold;display: inline-block;line-height: 1.2em;}#sk-container-id-1 div.sk-label-container {text-align: center;}#sk-container-id-1 div.sk-container {/* jupyter's `normalize.less` sets `[hidden] { display: none; }` but bootstrap.min.css set `[hidden] { display: none !important; }` so we also need the `!important` here to be able to override the default hidden behavior on the sphinx rendered scikit-learn.org. See: https://github.com/scikit-learn/scikit-learn/issues/21755 */display: inline-block !important;position: relative;}#sk-container-id-1 div.sk-text-repr-fallback {display: none;}</style><div id=\"sk-container-id-1\" class=\"sk-top-container\"><div class=\"sk-text-repr-fallback\"><pre>MultinomialNB()</pre><b>In a Jupyter environment, please rerun this cell to show the HTML representation or trust the notebook. <br />On GitHub, the HTML representation is unable to render, please try loading this page with nbviewer.org.</b></div><div class=\"sk-container\" hidden><div class=\"sk-item\"><div class=\"sk-estimator sk-toggleable\"><input class=\"sk-toggleable__control sk-hidden--visually\" id=\"sk-estimator-id-1\" type=\"checkbox\" checked><label for=\"sk-estimator-id-1\" class=\"sk-toggleable__label sk-toggleable__label-arrow\">MultinomialNB</label><div class=\"sk-toggleable__content\"><pre>MultinomialNB()</pre></div></div></div></div></div>"
      ],
      "text/plain": [
       "MultinomialNB()"
      ]
     },
     "execution_count": 30,
     "metadata": {},
     "output_type": "execute_result"
    }
   ],
   "source": [
    "nb.fit(X_train,y_train)"
   ]
  },
  {
   "cell_type": "code",
   "execution_count": 31,
   "id": "b7bfa538",
   "metadata": {
    "execution": {
     "iopub.execute_input": "2024-01-26T13:49:05.154988Z",
     "iopub.status.busy": "2024-01-26T13:49:05.154575Z",
     "iopub.status.idle": "2024-01-26T13:49:05.161247Z",
     "shell.execute_reply": "2024-01-26T13:49:05.160411Z"
    },
    "papermill": {
     "duration": 0.027977,
     "end_time": "2024-01-26T13:49:05.163438",
     "exception": false,
     "start_time": "2024-01-26T13:49:05.135461",
     "status": "completed"
    },
    "tags": []
   },
   "outputs": [],
   "source": [
    "pred = nb.predict(X_test)"
   ]
  },
  {
   "cell_type": "code",
   "execution_count": 32,
   "id": "12a3ccb2",
   "metadata": {
    "execution": {
     "iopub.execute_input": "2024-01-26T13:49:05.199919Z",
     "iopub.status.busy": "2024-01-26T13:49:05.199487Z",
     "iopub.status.idle": "2024-01-26T13:49:05.204672Z",
     "shell.execute_reply": "2024-01-26T13:49:05.203558Z"
    },
    "papermill": {
     "duration": 0.025698,
     "end_time": "2024-01-26T13:49:05.206857",
     "exception": false,
     "start_time": "2024-01-26T13:49:05.181159",
     "status": "completed"
    },
    "tags": []
   },
   "outputs": [],
   "source": [
    "from sklearn.metrics import classification_report"
   ]
  },
  {
   "cell_type": "code",
   "execution_count": 33,
   "id": "61b8010b",
   "metadata": {
    "execution": {
     "iopub.execute_input": "2024-01-26T13:49:05.249936Z",
     "iopub.status.busy": "2024-01-26T13:49:05.248402Z",
     "iopub.status.idle": "2024-01-26T13:49:05.273657Z",
     "shell.execute_reply": "2024-01-26T13:49:05.272231Z"
    },
    "papermill": {
     "duration": 0.05215,
     "end_time": "2024-01-26T13:49:05.276375",
     "exception": false,
     "start_time": "2024-01-26T13:49:05.224225",
     "status": "completed"
    },
    "tags": []
   },
   "outputs": [
    {
     "name": "stdout",
     "output_type": "stream",
     "text": [
      "              precision    recall  f1-score   support\n",
      "\n",
      "           1       0.88      0.88      0.88       501\n",
      "           5       0.93      0.93      0.93       814\n",
      "\n",
      "    accuracy                           0.91      1315\n",
      "   macro avg       0.90      0.91      0.90      1315\n",
      "weighted avg       0.91      0.91      0.91      1315\n",
      "\n"
     ]
    }
   ],
   "source": [
    "print(classification_report(y_test,pred))"
   ]
  },
  {
   "cell_type": "code",
   "execution_count": 34,
   "id": "360ac151",
   "metadata": {
    "execution": {
     "iopub.execute_input": "2024-01-26T13:49:05.314233Z",
     "iopub.status.busy": "2024-01-26T13:49:05.313174Z",
     "iopub.status.idle": "2024-01-26T13:49:05.319094Z",
     "shell.execute_reply": "2024-01-26T13:49:05.317537Z"
    },
    "papermill": {
     "duration": 0.028152,
     "end_time": "2024-01-26T13:49:05.322372",
     "exception": false,
     "start_time": "2024-01-26T13:49:05.294220",
     "status": "completed"
    },
    "tags": []
   },
   "outputs": [],
   "source": [
    "from sklearn.feature_extraction.text import  TfidfTransformer"
   ]
  },
  {
   "cell_type": "code",
   "execution_count": 35,
   "id": "ee44b3b3",
   "metadata": {
    "execution": {
     "iopub.execute_input": "2024-01-26T13:49:05.360730Z",
     "iopub.status.busy": "2024-01-26T13:49:05.360269Z",
     "iopub.status.idle": "2024-01-26T13:49:05.366911Z",
     "shell.execute_reply": "2024-01-26T13:49:05.366062Z"
    },
    "papermill": {
     "duration": 0.02806,
     "end_time": "2024-01-26T13:49:05.369233",
     "exception": false,
     "start_time": "2024-01-26T13:49:05.341173",
     "status": "completed"
    },
    "tags": []
   },
   "outputs": [],
   "source": [
    "from sklearn.pipeline import Pipeline"
   ]
  },
  {
   "cell_type": "code",
   "execution_count": 36,
   "id": "488228df",
   "metadata": {
    "execution": {
     "iopub.execute_input": "2024-01-26T13:49:05.406832Z",
     "iopub.status.busy": "2024-01-26T13:49:05.406404Z",
     "iopub.status.idle": "2024-01-26T13:49:05.411619Z",
     "shell.execute_reply": "2024-01-26T13:49:05.410585Z"
    },
    "papermill": {
     "duration": 0.026728,
     "end_time": "2024-01-26T13:49:05.413917",
     "exception": false,
     "start_time": "2024-01-26T13:49:05.387189",
     "status": "completed"
    },
    "tags": []
   },
   "outputs": [],
   "source": [
    "pipeline = Pipeline([\n",
    "    ('bow', CountVectorizer()),  # strings to token integer counts\n",
    "    ('tfidf', TfidfTransformer()),  # integer counts to weighted TF-IDF scores\n",
    "    ('classifier', MultinomialNB()),  # train on TF-IDF vectors w/ Naive Bayes classifier\n",
    "])"
   ]
  },
  {
   "cell_type": "code",
   "execution_count": 37,
   "id": "0399d30b",
   "metadata": {
    "execution": {
     "iopub.execute_input": "2024-01-26T13:49:05.450802Z",
     "iopub.status.busy": "2024-01-26T13:49:05.450384Z",
     "iopub.status.idle": "2024-01-26T13:49:05.458452Z",
     "shell.execute_reply": "2024-01-26T13:49:05.457439Z"
    },
    "papermill": {
     "duration": 0.029288,
     "end_time": "2024-01-26T13:49:05.460703",
     "exception": false,
     "start_time": "2024-01-26T13:49:05.431415",
     "status": "completed"
    },
    "tags": []
   },
   "outputs": [],
   "source": [
    "X=df_new['nopunc']\n",
    "y=df_new['score']\n",
    "X_train, X_test, y_train, y_test = train_test_split(X, y,test_size=0.3,random_state=101)"
   ]
  },
  {
   "cell_type": "code",
   "execution_count": 38,
   "id": "daaa194d",
   "metadata": {
    "execution": {
     "iopub.execute_input": "2024-01-26T13:49:05.496799Z",
     "iopub.status.busy": "2024-01-26T13:49:05.496400Z",
     "iopub.status.idle": "2024-01-26T13:49:05.636530Z",
     "shell.execute_reply": "2024-01-26T13:49:05.635024Z"
    },
    "papermill": {
     "duration": 0.162533,
     "end_time": "2024-01-26T13:49:05.640966",
     "exception": false,
     "start_time": "2024-01-26T13:49:05.478433",
     "status": "completed"
    },
    "tags": []
   },
   "outputs": [
    {
     "data": {
      "text/html": [
       "<style>#sk-container-id-2 {color: black;background-color: white;}#sk-container-id-2 pre{padding: 0;}#sk-container-id-2 div.sk-toggleable {background-color: white;}#sk-container-id-2 label.sk-toggleable__label {cursor: pointer;display: block;width: 100%;margin-bottom: 0;padding: 0.3em;box-sizing: border-box;text-align: center;}#sk-container-id-2 label.sk-toggleable__label-arrow:before {content: \"▸\";float: left;margin-right: 0.25em;color: #696969;}#sk-container-id-2 label.sk-toggleable__label-arrow:hover:before {color: black;}#sk-container-id-2 div.sk-estimator:hover label.sk-toggleable__label-arrow:before {color: black;}#sk-container-id-2 div.sk-toggleable__content {max-height: 0;max-width: 0;overflow: hidden;text-align: left;background-color: #f0f8ff;}#sk-container-id-2 div.sk-toggleable__content pre {margin: 0.2em;color: black;border-radius: 0.25em;background-color: #f0f8ff;}#sk-container-id-2 input.sk-toggleable__control:checked~div.sk-toggleable__content {max-height: 200px;max-width: 100%;overflow: auto;}#sk-container-id-2 input.sk-toggleable__control:checked~label.sk-toggleable__label-arrow:before {content: \"▾\";}#sk-container-id-2 div.sk-estimator input.sk-toggleable__control:checked~label.sk-toggleable__label {background-color: #d4ebff;}#sk-container-id-2 div.sk-label input.sk-toggleable__control:checked~label.sk-toggleable__label {background-color: #d4ebff;}#sk-container-id-2 input.sk-hidden--visually {border: 0;clip: rect(1px 1px 1px 1px);clip: rect(1px, 1px, 1px, 1px);height: 1px;margin: -1px;overflow: hidden;padding: 0;position: absolute;width: 1px;}#sk-container-id-2 div.sk-estimator {font-family: monospace;background-color: #f0f8ff;border: 1px dotted black;border-radius: 0.25em;box-sizing: border-box;margin-bottom: 0.5em;}#sk-container-id-2 div.sk-estimator:hover {background-color: #d4ebff;}#sk-container-id-2 div.sk-parallel-item::after {content: \"\";width: 100%;border-bottom: 1px solid gray;flex-grow: 1;}#sk-container-id-2 div.sk-label:hover label.sk-toggleable__label {background-color: #d4ebff;}#sk-container-id-2 div.sk-serial::before {content: \"\";position: absolute;border-left: 1px solid gray;box-sizing: border-box;top: 0;bottom: 0;left: 50%;z-index: 0;}#sk-container-id-2 div.sk-serial {display: flex;flex-direction: column;align-items: center;background-color: white;padding-right: 0.2em;padding-left: 0.2em;position: relative;}#sk-container-id-2 div.sk-item {position: relative;z-index: 1;}#sk-container-id-2 div.sk-parallel {display: flex;align-items: stretch;justify-content: center;background-color: white;position: relative;}#sk-container-id-2 div.sk-item::before, #sk-container-id-2 div.sk-parallel-item::before {content: \"\";position: absolute;border-left: 1px solid gray;box-sizing: border-box;top: 0;bottom: 0;left: 50%;z-index: -1;}#sk-container-id-2 div.sk-parallel-item {display: flex;flex-direction: column;z-index: 1;position: relative;background-color: white;}#sk-container-id-2 div.sk-parallel-item:first-child::after {align-self: flex-end;width: 50%;}#sk-container-id-2 div.sk-parallel-item:last-child::after {align-self: flex-start;width: 50%;}#sk-container-id-2 div.sk-parallel-item:only-child::after {width: 0;}#sk-container-id-2 div.sk-dashed-wrapped {border: 1px dashed gray;margin: 0 0.4em 0.5em 0.4em;box-sizing: border-box;padding-bottom: 0.4em;background-color: white;}#sk-container-id-2 div.sk-label label {font-family: monospace;font-weight: bold;display: inline-block;line-height: 1.2em;}#sk-container-id-2 div.sk-label-container {text-align: center;}#sk-container-id-2 div.sk-container {/* jupyter's `normalize.less` sets `[hidden] { display: none; }` but bootstrap.min.css set `[hidden] { display: none !important; }` so we also need the `!important` here to be able to override the default hidden behavior on the sphinx rendered scikit-learn.org. See: https://github.com/scikit-learn/scikit-learn/issues/21755 */display: inline-block !important;position: relative;}#sk-container-id-2 div.sk-text-repr-fallback {display: none;}</style><div id=\"sk-container-id-2\" class=\"sk-top-container\"><div class=\"sk-text-repr-fallback\"><pre>Pipeline(steps=[(&#x27;bow&#x27;, CountVectorizer()), (&#x27;tfidf&#x27;, TfidfTransformer()),\n",
       "                (&#x27;classifier&#x27;, MultinomialNB())])</pre><b>In a Jupyter environment, please rerun this cell to show the HTML representation or trust the notebook. <br />On GitHub, the HTML representation is unable to render, please try loading this page with nbviewer.org.</b></div><div class=\"sk-container\" hidden><div class=\"sk-item sk-dashed-wrapped\"><div class=\"sk-label-container\"><div class=\"sk-label sk-toggleable\"><input class=\"sk-toggleable__control sk-hidden--visually\" id=\"sk-estimator-id-2\" type=\"checkbox\" ><label for=\"sk-estimator-id-2\" class=\"sk-toggleable__label sk-toggleable__label-arrow\">Pipeline</label><div class=\"sk-toggleable__content\"><pre>Pipeline(steps=[(&#x27;bow&#x27;, CountVectorizer()), (&#x27;tfidf&#x27;, TfidfTransformer()),\n",
       "                (&#x27;classifier&#x27;, MultinomialNB())])</pre></div></div></div><div class=\"sk-serial\"><div class=\"sk-item\"><div class=\"sk-estimator sk-toggleable\"><input class=\"sk-toggleable__control sk-hidden--visually\" id=\"sk-estimator-id-3\" type=\"checkbox\" ><label for=\"sk-estimator-id-3\" class=\"sk-toggleable__label sk-toggleable__label-arrow\">CountVectorizer</label><div class=\"sk-toggleable__content\"><pre>CountVectorizer()</pre></div></div></div><div class=\"sk-item\"><div class=\"sk-estimator sk-toggleable\"><input class=\"sk-toggleable__control sk-hidden--visually\" id=\"sk-estimator-id-4\" type=\"checkbox\" ><label for=\"sk-estimator-id-4\" class=\"sk-toggleable__label sk-toggleable__label-arrow\">TfidfTransformer</label><div class=\"sk-toggleable__content\"><pre>TfidfTransformer()</pre></div></div></div><div class=\"sk-item\"><div class=\"sk-estimator sk-toggleable\"><input class=\"sk-toggleable__control sk-hidden--visually\" id=\"sk-estimator-id-5\" type=\"checkbox\" ><label for=\"sk-estimator-id-5\" class=\"sk-toggleable__label sk-toggleable__label-arrow\">MultinomialNB</label><div class=\"sk-toggleable__content\"><pre>MultinomialNB()</pre></div></div></div></div></div></div></div>"
      ],
      "text/plain": [
       "Pipeline(steps=[('bow', CountVectorizer()), ('tfidf', TfidfTransformer()),\n",
       "                ('classifier', MultinomialNB())])"
      ]
     },
     "execution_count": 38,
     "metadata": {},
     "output_type": "execute_result"
    }
   ],
   "source": [
    "pipeline.fit(X_train,y_train)"
   ]
  },
  {
   "cell_type": "code",
   "execution_count": 39,
   "id": "2027847c",
   "metadata": {
    "execution": {
     "iopub.execute_input": "2024-01-26T13:49:05.683723Z",
     "iopub.status.busy": "2024-01-26T13:49:05.683234Z",
     "iopub.status.idle": "2024-01-26T13:49:05.738517Z",
     "shell.execute_reply": "2024-01-26T13:49:05.737582Z"
    },
    "papermill": {
     "duration": 0.079918,
     "end_time": "2024-01-26T13:49:05.741232",
     "exception": false,
     "start_time": "2024-01-26T13:49:05.661314",
     "status": "completed"
    },
    "tags": []
   },
   "outputs": [],
   "source": [
    "y_pred = pipeline.predict(X_test)"
   ]
  },
  {
   "cell_type": "code",
   "execution_count": 40,
   "id": "b929bbc7",
   "metadata": {
    "execution": {
     "iopub.execute_input": "2024-01-26T13:49:05.779798Z",
     "iopub.status.busy": "2024-01-26T13:49:05.779132Z",
     "iopub.status.idle": "2024-01-26T13:49:05.796027Z",
     "shell.execute_reply": "2024-01-26T13:49:05.794966Z"
    },
    "papermill": {
     "duration": 0.038635,
     "end_time": "2024-01-26T13:49:05.798353",
     "exception": false,
     "start_time": "2024-01-26T13:49:05.759718",
     "status": "completed"
    },
    "tags": []
   },
   "outputs": [
    {
     "name": "stdout",
     "output_type": "stream",
     "text": [
      "              precision    recall  f1-score   support\n",
      "\n",
      "           1       0.91      0.86      0.88       501\n",
      "           5       0.91      0.94      0.93       814\n",
      "\n",
      "    accuracy                           0.91      1315\n",
      "   macro avg       0.91      0.90      0.90      1315\n",
      "weighted avg       0.91      0.91      0.91      1315\n",
      "\n"
     ]
    }
   ],
   "source": [
    "print(classification_report(y_test,y_pred))"
   ]
  },
  {
   "cell_type": "code",
   "execution_count": null,
   "id": "38dd4d04",
   "metadata": {
    "papermill": {
     "duration": 0.017711,
     "end_time": "2024-01-26T13:49:05.834214",
     "exception": false,
     "start_time": "2024-01-26T13:49:05.816503",
     "status": "completed"
    },
    "tags": []
   },
   "outputs": [],
   "source": []
  },
  {
   "cell_type": "code",
   "execution_count": null,
   "id": "79babb52",
   "metadata": {
    "papermill": {
     "duration": 0.017993,
     "end_time": "2024-01-26T13:49:05.870174",
     "exception": false,
     "start_time": "2024-01-26T13:49:05.852181",
     "status": "completed"
    },
    "tags": []
   },
   "outputs": [],
   "source": []
  },
  {
   "cell_type": "code",
   "execution_count": null,
   "id": "efed14c8",
   "metadata": {
    "papermill": {
     "duration": 0.017853,
     "end_time": "2024-01-26T13:49:05.905722",
     "exception": false,
     "start_time": "2024-01-26T13:49:05.887869",
     "status": "completed"
    },
    "tags": []
   },
   "outputs": [],
   "source": []
  },
  {
   "cell_type": "code",
   "execution_count": null,
   "id": "067b3d8b",
   "metadata": {
    "papermill": {
     "duration": 0.017671,
     "end_time": "2024-01-26T13:49:05.941331",
     "exception": false,
     "start_time": "2024-01-26T13:49:05.923660",
     "status": "completed"
    },
    "tags": []
   },
   "outputs": [],
   "source": []
  },
  {
   "cell_type": "code",
   "execution_count": null,
   "id": "413538d2",
   "metadata": {
    "papermill": {
     "duration": 0.017556,
     "end_time": "2024-01-26T13:49:05.976501",
     "exception": false,
     "start_time": "2024-01-26T13:49:05.958945",
     "status": "completed"
    },
    "tags": []
   },
   "outputs": [],
   "source": []
  }
 ],
 "metadata": {
  "kaggle": {
   "accelerator": "none",
   "dataSources": [
    {
     "datasetId": 1056391,
     "sourceId": 1776895,
     "sourceType": "datasetVersion"
    }
   ],
   "dockerImageVersionId": 30615,
   "isGpuEnabled": false,
   "isInternetEnabled": true,
   "language": "python",
   "sourceType": "notebook"
  },
  "kernelspec": {
   "display_name": "Python 3",
   "language": "python",
   "name": "python3"
  },
  "language_info": {
   "codemirror_mode": {
    "name": "ipython",
    "version": 3
   },
   "file_extension": ".py",
   "mimetype": "text/x-python",
   "name": "python",
   "nbconvert_exporter": "python",
   "pygments_lexer": "ipython3",
   "version": "3.10.12"
  },
  "papermill": {
   "default_parameters": {},
   "duration": 10.449416,
   "end_time": "2024-01-26T13:49:06.614130",
   "environment_variables": {},
   "exception": null,
   "input_path": "__notebook__.ipynb",
   "output_path": "__notebook__.ipynb",
   "parameters": {},
   "start_time": "2024-01-26T13:48:56.164714",
   "version": "2.4.0"
  }
 },
 "nbformat": 4,
 "nbformat_minor": 5
}
